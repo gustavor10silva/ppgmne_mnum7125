{
 "cells": [
  {
   "cell_type": "markdown",
   "metadata": {},
   "source": [
    "# Atividade 5\n",
    "\n",
    "Implementar o Método MTZ em Python, mesmo que não fique de forma 100% automatizada.\n",
    "Isto é:\n",
    "\n",
    "* Implementar o problema do Caixeiro Viajante sem nenhuma restrição de subrotas\n",
    "* Identificar as subrotas que ocorreram\n",
    "* Escrever as restrições dessas subrotas que ocorreram\n",
    "* Resolver o problema novamente\n",
    "* Repetir isso até obter uma solução que não tenha subrotas"
   ]
  },
  {
   "cell_type": "markdown",
   "metadata": {},
   "source": [
    "# Solução"
   ]
  },
  {
   "cell_type": "markdown",
   "metadata": {},
   "source": [
    "Implementarei o Problema do Caixeiro Viajante com 5 pontos. Sejam eles\n",
    "\n",
    "### Variáveis\n",
    "\n",
    "$x_{ij}$, $i,j \\in \\{1,2,3,4,5\\}$ são as variáveis de movimentação do Caixeiro.\n",
    "\n",
    "* $x_{ij} = 1$, se o caixeiro passa pelo ponto $p_j$ imediatamente após o ponto $p_i$\n",
    "* $x_{ij} = 0$, caso contrário\n",
    "\n",
    "$d_{ij}$, $i,j \\in \\{1,2,3,4,5\\}$ são as distâncias entre os pontos $p_i$ e $p_j$.\n",
    "\n",
    "Segue a tabela com as coordenadas dos pontos:\n",
    "\n",
    "![Alt text](coordenadas.png)\n",
    "\n",
    "E agora, segue a matriz das distâncias euclidianas calculadas:\n",
    "\n",
    "![Alt text](distancias.png)\n",
    "\n",
    "### Função Objetivo\n",
    "\n",
    "Queremos minimizar a distância total percorrida:\n",
    "\n",
    "$$ \\text{Min } Z = \\sum_{i=1}^{5} \\sum_{j=1}^{5} x_{ij} \\cdot d_{ij} $$\n",
    "\n",
    "### Restrições\n",
    "\n",
    "As restrições são baseadas nos requisitos nutricionais diários:\n",
    "\n",
    "1. Cada origem tem somente um destino:\n",
    "\n",
    "$$ \\sum_{j=1}^{5} x_{ij} = 1, \\forall i $$\n",
    "\n",
    "\n",
    "2. Cada destino tem somente uma origem:\n",
    "\n",
    "$$ \\sum_{i=1}^{5} x_{ij} = 1, \\forall j $$"
   ]
  },
  {
   "cell_type": "code",
   "execution_count": 16,
   "metadata": {},
   "outputs": [
    {
     "name": "stdout",
     "output_type": "stream",
     "text": [
      "Requirement already satisfied: gurobipy in c:\\users\\gusta\\appdata\\local\\programs\\python\\python311\\lib\\site-packages (11.0.3)\n"
     ]
    },
    {
     "name": "stderr",
     "output_type": "stream",
     "text": [
      "\n",
      "[notice] A new release of pip is available: 23.1.2 -> 24.2\n",
      "[notice] To update, run: python.exe -m pip install --upgrade pip\n",
      "\n",
      "[notice] A new release of pip is available: 23.1.2 -> 24.2\n",
      "[notice] To update, run: python.exe -m pip install --upgrade pip\n"
     ]
    },
    {
     "name": "stdout",
     "output_type": "stream",
     "text": [
      "Collecting matplotlib\n",
      "  Downloading matplotlib-3.9.2-cp311-cp311-win_amd64.whl (7.8 MB)\n",
      "                                              0.0/7.8 MB ? eta -:--:--\n",
      "     -                                        0.3/7.8 MB 5.2 MB/s eta 0:00:02\n",
      "     ------                                   1.3/7.8 MB 13.5 MB/s eta 0:00:01\n",
      "     -------------                            2.6/7.8 MB 18.2 MB/s eta 0:00:01\n",
      "     ------------------                       3.6/7.8 MB 19.3 MB/s eta 0:00:01\n",
      "     ------------------------                 4.8/7.8 MB 20.5 MB/s eta 0:00:01\n",
      "     ------------------------------           6.0/7.8 MB 21.1 MB/s eta 0:00:01\n",
      "     ------------------------------------     7.1/7.8 MB 21.5 MB/s eta 0:00:01\n",
      "     ------------------------------------     7.2/7.8 MB 21.9 MB/s eta 0:00:01\n",
      "     ---------------------------------------  7.8/7.8 MB 20.0 MB/s eta 0:00:01\n",
      "     ---------------------------------------- 7.8/7.8 MB 18.5 MB/s eta 0:00:00\n",
      "Collecting contourpy>=1.0.1 (from matplotlib)\n",
      "  Downloading contourpy-1.3.0-cp311-cp311-win_amd64.whl (217 kB)\n",
      "                                              0.0/217.2 kB ? eta -:--:--\n",
      "     ------------------------------------- 217.2/217.2 kB 13.8 MB/s eta 0:00:00\n",
      "Collecting cycler>=0.10 (from matplotlib)\n",
      "  Downloading cycler-0.12.1-py3-none-any.whl (8.3 kB)\n",
      "Collecting fonttools>=4.22.0 (from matplotlib)\n",
      "  Downloading fonttools-4.53.1-cp311-cp311-win_amd64.whl (2.2 MB)\n",
      "                                              0.0/2.2 MB ? eta -:--:--\n",
      "     ------------------------                 1.4/2.2 MB 42.6 MB/s eta 0:00:01\n",
      "     ---------------------------------------  2.2/2.2 MB 34.8 MB/s eta 0:00:01\n",
      "     ---------------------------------------- 2.2/2.2 MB 23.3 MB/s eta 0:00:00\n",
      "Collecting kiwisolver>=1.3.1 (from matplotlib)\n",
      "  Downloading kiwisolver-1.4.5-cp311-cp311-win_amd64.whl (56 kB)\n",
      "                                              0.0/56.1 kB ? eta -:--:--\n",
      "     ---------------------------------------- 56.1/56.1 kB ? eta 0:00:00\n",
      "Requirement already satisfied: numpy>=1.23 in c:\\users\\gusta\\appdata\\local\\programs\\python\\python311\\lib\\site-packages (from matplotlib) (1.25.1)\n",
      "Requirement already satisfied: packaging>=20.0 in c:\\users\\gusta\\appdata\\roaming\\python\\python311\\site-packages (from matplotlib) (23.1)\n",
      "Collecting pillow>=8 (from matplotlib)\n",
      "  Downloading pillow-10.4.0-cp311-cp311-win_amd64.whl (2.6 MB)\n",
      "                                              0.0/2.6 MB ? eta -:--:--\n",
      "     --------------------                     1.3/2.6 MB 27.5 MB/s eta 0:00:01\n",
      "     ---------------------------------------  2.5/2.6 MB 26.5 MB/s eta 0:00:01\n",
      "     ---------------------------------------- 2.6/2.6 MB 23.1 MB/s eta 0:00:00\n",
      "Collecting pyparsing>=2.3.1 (from matplotlib)\n",
      "  Downloading pyparsing-3.1.4-py3-none-any.whl (104 kB)\n",
      "                                              0.0/104.1 kB ? eta -:--:--\n",
      "     ---------------------------------------- 104.1/104.1 kB ? eta 0:00:00\n",
      "Requirement already satisfied: python-dateutil>=2.7 in c:\\users\\gusta\\appdata\\roaming\\python\\python311\\site-packages (from matplotlib) (2.8.2)\n",
      "Requirement already satisfied: six>=1.5 in c:\\users\\gusta\\appdata\\roaming\\python\\python311\\site-packages (from python-dateutil>=2.7->matplotlib) (1.16.0)\n",
      "Installing collected packages: pyparsing, pillow, kiwisolver, fonttools, cycler, contourpy, matplotlib\n",
      "Successfully installed contourpy-1.3.0 cycler-0.12.1 fonttools-4.53.1 kiwisolver-1.4.5 matplotlib-3.9.2 pillow-10.4.0 pyparsing-3.1.4\n"
     ]
    }
   ],
   "source": [
    "!pip install gurobipy\n",
    "!pip install matplotlib\n",
    "\n",
    "import pandas as pd\n",
    "import gurobipy as gp\n",
    "from gurobipy import GRB\n",
    "import matplotlib"
   ]
  },
  {
   "cell_type": "code",
   "execution_count": 31,
   "metadata": {},
   "outputs": [],
   "source": [
    "coordenadas = pd.read_csv(\"auxiliares/arquivos/coordenadas.csv\")\n",
    "distancias = pd.read_csv(\"auxiliares/arquivos/distancias.csv\")"
   ]
  },
  {
   "cell_type": "code",
   "execution_count": 32,
   "metadata": {},
   "outputs": [
    {
     "data": {
      "text/html": [
       "<div>\n",
       "<style scoped>\n",
       "    .dataframe tbody tr th:only-of-type {\n",
       "        vertical-align: middle;\n",
       "    }\n",
       "\n",
       "    .dataframe tbody tr th {\n",
       "        vertical-align: top;\n",
       "    }\n",
       "\n",
       "    .dataframe thead th {\n",
       "        text-align: right;\n",
       "    }\n",
       "</style>\n",
       "<table border=\"1\" class=\"dataframe\">\n",
       "  <thead>\n",
       "    <tr style=\"text-align: right;\">\n",
       "      <th></th>\n",
       "      <th>ponto</th>\n",
       "      <th>x</th>\n",
       "      <th>y</th>\n",
       "    </tr>\n",
       "  </thead>\n",
       "  <tbody>\n",
       "    <tr>\n",
       "      <th>0</th>\n",
       "      <td>p1</td>\n",
       "      <td>0</td>\n",
       "      <td>1</td>\n",
       "    </tr>\n",
       "    <tr>\n",
       "      <th>1</th>\n",
       "      <td>p2</td>\n",
       "      <td>2</td>\n",
       "      <td>4</td>\n",
       "    </tr>\n",
       "    <tr>\n",
       "      <th>2</th>\n",
       "      <td>p3</td>\n",
       "      <td>-3</td>\n",
       "      <td>8</td>\n",
       "    </tr>\n",
       "    <tr>\n",
       "      <th>3</th>\n",
       "      <td>p4</td>\n",
       "      <td>-4</td>\n",
       "      <td>2</td>\n",
       "    </tr>\n",
       "    <tr>\n",
       "      <th>4</th>\n",
       "      <td>p5</td>\n",
       "      <td>7</td>\n",
       "      <td>-5</td>\n",
       "    </tr>\n",
       "  </tbody>\n",
       "</table>\n",
       "</div>"
      ],
      "text/plain": [
       "  ponto  x  y\n",
       "0    p1  0  1\n",
       "1    p2  2  4\n",
       "2    p3 -3  8\n",
       "3    p4 -4  2\n",
       "4    p5  7 -5"
      ]
     },
     "execution_count": 32,
     "metadata": {},
     "output_type": "execute_result"
    }
   ],
   "source": [
    "coordenadas"
   ]
  },
  {
   "cell_type": "code",
   "execution_count": 30,
   "metadata": {},
   "outputs": [
    {
     "data": {
      "text/plain": [
       "<Axes: title={'center': 'Pontos'}, xlabel='x', ylabel='y'>"
      ]
     },
     "execution_count": 30,
     "metadata": {},
     "output_type": "execute_result"
    },
    {
     "data": {
      "image/png": "[encoded data removed]",
      "text/plain": [
       "<Figure size 640x480 with 1 Axes>"
      ]
     },
     "metadata": {},
     "output_type": "display_data"
    }
   ],
   "source": [
    "coordenadas.plot.scatter(\n",
    "    x = 'x'\n",
    "    ,y = 'y'\n",
    "    ,title = 'Pontos'\n",
    ")"
   ]
  },
  {
   "cell_type": "code",
   "execution_count": 33,
   "metadata": {},
   "outputs": [
    {
     "data": {
      "text/html": [
       "<div>\n",
       "<style scoped>\n",
       "    .dataframe tbody tr th:only-of-type {\n",
       "        vertical-align: middle;\n",
       "    }\n",
       "\n",
       "    .dataframe tbody tr th {\n",
       "        vertical-align: top;\n",
       "    }\n",
       "\n",
       "    .dataframe thead th {\n",
       "        text-align: right;\n",
       "    }\n",
       "</style>\n",
       "<table border=\"1\" class=\"dataframe\">\n",
       "  <thead>\n",
       "    <tr style=\"text-align: right;\">\n",
       "      <th></th>\n",
       "      <th>Unnamed: 0</th>\n",
       "      <th>p1</th>\n",
       "      <th>p2</th>\n",
       "      <th>p3</th>\n",
       "      <th>p4</th>\n",
       "      <th>p5</th>\n",
       "    </tr>\n",
       "  </thead>\n",
       "  <tbody>\n",
       "    <tr>\n",
       "      <th>0</th>\n",
       "      <td>p1</td>\n",
       "      <td>0,00</td>\n",
       "      <td>3,61</td>\n",
       "      <td>7,62</td>\n",
       "      <td>4,12</td>\n",
       "      <td>9,22</td>\n",
       "    </tr>\n",
       "    <tr>\n",
       "      <th>1</th>\n",
       "      <td>p2</td>\n",
       "      <td>3,61</td>\n",
       "      <td>0,00</td>\n",
       "      <td>6,40</td>\n",
       "      <td>6,32</td>\n",
       "      <td>10,30</td>\n",
       "    </tr>\n",
       "    <tr>\n",
       "      <th>2</th>\n",
       "      <td>p3</td>\n",
       "      <td>7,62</td>\n",
       "      <td>6,40</td>\n",
       "      <td>0,00</td>\n",
       "      <td>6,08</td>\n",
       "      <td>16,40</td>\n",
       "    </tr>\n",
       "    <tr>\n",
       "      <th>3</th>\n",
       "      <td>p4</td>\n",
       "      <td>4,12</td>\n",
       "      <td>6,32</td>\n",
       "      <td>6,08</td>\n",
       "      <td>0,00</td>\n",
       "      <td>13,04</td>\n",
       "    </tr>\n",
       "    <tr>\n",
       "      <th>4</th>\n",
       "      <td>p5</td>\n",
       "      <td>9,22</td>\n",
       "      <td>10,30</td>\n",
       "      <td>16,40</td>\n",
       "      <td>13,04</td>\n",
       "      <td>0,00</td>\n",
       "    </tr>\n",
       "  </tbody>\n",
       "</table>\n",
       "</div>"
      ],
      "text/plain": [
       "  Unnamed: 0    p1     p2     p3     p4     p5\n",
       "0         p1  0,00   3,61   7,62   4,12   9,22\n",
       "1         p2  3,61   0,00   6,40   6,32  10,30\n",
       "2         p3  7,62   6,40   0,00   6,08  16,40\n",
       "3         p4  4,12   6,32   6,08   0,00  13,04\n",
       "4         p5  9,22  10,30  16,40  13,04   0,00"
      ]
     },
     "execution_count": 33,
     "metadata": {},
     "output_type": "execute_result"
    }
   ],
   "source": [
    "distancias"
   ]
  },
  {
   "cell_type": "code",
   "execution_count": null,
   "metadata": {},
   "outputs": [],
   "source": [
    "def model_ex1(custo_xA=0.5, custo_xB=0.3, custo_xC=0.8, custo_xD=0.2, custo_xE=0.1):\n",
    "  # Criar um novo modelo\n",
    "  model_ex1 = gp.Model(\"dieta_ex1\")\n",
    "\n",
    "  # Criar variáveis de decisão\n",
    "  x1_1 = model_ex1.addVar(vtype=GRB.CONTINUOUS, name=\"x1_1\")\n",
    "  x1_2 = model_ex1.addVar(vtype=GRB.CONTINUOUS, name=\"x1_2\")\n",
    "  x1_3 = model_ex1.addVar(vtype=GRB.CONTINUOUS, name=\"x1_3\")\n",
    "  x1_4 = model_ex1.addVar(vtype=GRB.CONTINUOUS, name=\"x1_4\")\n",
    "  x1_5 = model_ex1.addVar(vtype=GRB.CONTINUOUS, name=\"x1_5\")\n",
    "\n",
    "  # Definir a função objetivo\n",
    "  model_ex1.setObjective(custo_xA * xA + custo_xB * xB + custo_xC * xC + custo_xD * xD + custo_xE * xE, GRB.MINIMIZE)\n",
    "\n",
    "  # Adicionar restrição nutriente 1\n",
    "  model_ex1.addConstr(5 * xA + 4 * xB + 6 * xC + 3 * xD + 2 * xE >= 50, \"nutriente_1\")\n",
    "\n",
    "  # Adicionar restrição nutriente 2\n",
    "  model_ex1.addConstr(1 * xA + 2 * xB + 5 * xC + 3 * xD + 4 * xE >= 20, \"nutriente_2\")\n",
    "\n",
    "  # Adicionar restrição nutriente 3\n",
    "  model_ex1.addConstr(3 * xA + 1 * xB + 4 * xC + 1 * xD + 3 * xE >= 30, \"nutriente_3\")\n",
    "\n",
    "  # Resolver o modelo\n",
    "  model_ex1.optimize()\n",
    "\n",
    "  for v in model_ex1.getVars():\n",
    "      print(f\"O valor de {v.VarName} é {v.X}\")\n",
    "  print(f\"Com isso, o valor da função objetivo é de {model_ex1.ObjVal}\")"
   ]
  },
  {
   "cell_type": "code",
   "execution_count": 3,
   "metadata": {},
   "outputs": [],
   "source": [
    "# Cria o modelo\n",
    "model = gp.Model(\"TSP_Iterativo\")\n",
    "\n",
    "# Cria variáveis de decisão\n",
    "n = 5\n",
    "x = model.addVars(n, n, vtype=GRB.BINARY, name=\"x\")\n",
    "\n",
    "# Define a função objetivo\n",
    "model.setObjective(custo_xA * xA + custo_xB * xB + custo_xC * xC + custo_xD * xD + custo_xE * xE, GRB.MINIMIZE)"
   ]
  },
  {
   "cell_type": "code",
   "execution_count": null,
   "metadata": {},
   "outputs": [],
   "source": [
    "# Definir a função objetivo\n"
   ]
  }
 ],
 "metadata": {
  "kernelspec": {
   "display_name": "Python 3",
   "language": "python",
   "name": "python3"
  },
  "language_info": {
   "codemirror_mode": {
    "name": "ipython",
    "version": 3
   },
   "file_extension": ".py",
   "mimetype": "text/x-python",
   "name": "python",
   "nbconvert_exporter": "python",
   "pygments_lexer": "ipython3",
   "version": "3.11.4"
  },
  "orig_nbformat": 4
 },
 "nbformat": 4,
 "nbformat_minor": 2
}
