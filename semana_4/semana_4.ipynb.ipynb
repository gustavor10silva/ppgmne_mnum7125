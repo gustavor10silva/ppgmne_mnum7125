{
  "nbformat": 4,
  "nbformat_minor": 0,
  "metadata": {
    "colab": {
      "provenance": [],
      "toc_visible": true
    },
    "kernelspec": {
      "name": "python3",
      "display_name": "Python 3"
    },
    "language_info": {
      "name": "python"
    }
  },
  "cells": [
    {
      "cell_type": "markdown",
      "source": [
        "#####################\n",
        "params = {\n",
        "\"WLSACCESSID\": 'your wls accessid (string)',\n",
        "\"WLSSECRET\": 'your wls secret (string)',\n",
        "\"LICENSEID\": <your license id (integer)>,\n",
        "}"
      ],
      "metadata": {
        "id": "R8-Ia3XcSeg4"
      }
    },
    {
      "cell_type": "markdown",
      "source": [
        "# Bem-vindos ao Curso de Implementação de Modelos de Programação Inteira Mista!\n",
        "\n",
        "Você está prestes a embarcar em uma jornada de 15 semanas com o objetivo de transformar a maneira como você aborda e resolve problemas complexos no mundo real. O curso foi cuidadosamente projetado (pelo professor e um auxílio de chat gpt e outros materias disponíveis) para fornecer a você as ferramentas e os conhecimentos necessários para implementar modelos de pesquisa operacional de forma eficaz, aplicando conceitos teóricos a cenários práticos.\n",
        "\n",
        "## Por que Pesquisa Operacional (Decision Science)?\n",
        "\n",
        "A Pesquisa Operacional é a ciência da tomada de decisões ótimas. Em um mundo cada vez mais complexo e dinâmico, a capacidade de analisar dados e formular estratégias eficientes é uma competência altamente valorizada. Se você já se perguntou como grandes corporações otimizam (ou poderiam otimizar) suas cadeias de suprimentos, como hospitais gerenciam seus recursos para maximizar o atendimento ao paciente, como criar tabelas de campeonato de forma otimizada ou como governos planejam suas infraestruturas, você já vislumbrou o impacto da Pesquisa Operacional.\n",
        "\n",
        "## O que você pode esperar deste curso?\n",
        "\n",
        "1. **Fundamentos Sólidos**: Começaremos com os conceitos básicos, garantindo que todos tenham uma compreensão clara dos princípios fundamentais da Pesquisa Operacional.\n",
        "2. **Ferramentas Poderosas**: Você aprenderá a utilizar softwares e linguagens de programação essenciais, como Excel, Python, C# e Gurobi, para desenvolver, implementar e resolver modelos para problemas reais.\n",
        "3. **Aplicações Práticas**: A teoria é importante, mas a prática é essencial. Você terá a oportunidade de trabalhar em estudos de caso reais, aplicando o que aprendeu para resolver problemas concretos.\n",
        "4. **Projetos Colaborativos**: Trabalhar em equipe é uma habilidade crucial. Ao longo do curso você terá atividades individuais e em grupo, onde poderá compartilhar ideias, aprender com os colegas e desenvolver soluções inovadoras.\n",
        "5. **Desenvolvimento de Habilidades Analíticas**: Você fortalecerá suas habilidades analíticas e de pensamento crítico, capacitando-o a abordar problemas de forma lógica e estruturada.\n",
        "\n",
        "## Motivação para Sucesso\n",
        "\n",
        "Este curso não é apenas sobre aprender a implementar modelos de Pesquisa Operacional; é sobre desenvolver uma mentalidade analítica e orientada para a solução de problemas. Ao final das 15 semanas, espera-se que você estará preparado para enfrentar desafios complexos com mais confiança, utilizando a Pesquisa Operacional como uma ferramenta poderosa em seu arsenal.\n",
        "\n",
        "Seja graduado em engenharia, administração, matemática economia ou qualquer outra área, a Pesquisa Operacional oferece uma vasta gama de aplicações e oportunidades. A dedicação e o esforço que você investirá neste curso certamente serão recompensados com habilidades valiosas e uma nova perspectiva sobre a tomada de decisões.\n",
        "\n",
        "Prepare-se para expandir seus horizontes e transformar sua maneira de pensar. Bem-vindos a esta emocionante jornada de descoberta e aprendizado!\n",
        "\n",
        "Estou ansiosos para vê-los crescer e alcançar novos patamares.\n",
        "\n",
        "\n",
        "**Ótimo curso e sucesso a todos!**"
      ],
      "metadata": {
        "id": "wDWM2gHIzmSf"
      }
    },
    {
      "cell_type": "markdown",
      "source": [
        "# Problema Inicial: O Problema da Dieta\n",
        "\n",
        "Para iniciar nossa jornada pela implementação computacional dos modelos vamos utilizar um exemplo clássico da Pesquisa Operacional.\n",
        "\n",
        "De forma geral, temos sempre uma descrição do problema e dados dele. A partir disso, construímos o modelo matemático.\n",
        "\n",
        "## Descrição do Problema\n",
        "\n",
        "O problema da dieta é um dos problemas clássicos de otimização linear, originalmente formulado durante a Segunda Guerra Mundial. A ideia é determinar a quantidade de diferentes alimentos que uma pessoa deve consumir para satisfazer uma série de requisitos nutricionais ao menor custo possível.\n",
        "\n",
        "Suponha que temos três tipos de alimentos: A, B e C. Cada alimento contém diferentes quantidades de nutrientes e tem um custo específico. Nosso objetivo é decidir quantas unidades de cada alimento devem ser consumidas para satisfazer as necessidades nutricionais diárias ao menor custo.\n",
        "\n",
        "### Características de Cada Alimento\n",
        "\n",
        "| Alimento | Custo (R$/unidade) | Nutriente 1 (g/unidade) | Nutriente 2 (g/unidade) | Nutriente 3 (g/unidade) |\n",
        "|----------|--------------------|-------------------------|-------------------------|-------------------------|\n",
        "| A        | 0.50               | 5                       | 1                       | 3                       |\n",
        "| B        | 0.30               | 4                       | 2                       | 1                       |\n",
        "| C        | 0.80               | 6                       | 3                       | 2                       |\n",
        "\n",
        "### Requisitos Nutricionais Diários\n",
        "\n",
        "- Nutriente 1: Pelo menos 50 gramas\n",
        "- Nutriente 2: Pelo menos 20 gramas\n",
        "- Nutriente 3: Pelo menos 30 gramas\n",
        "\n",
        "## Construção do Modelo Matemático\n",
        "\n",
        "Vamos definir as variáveis de decisão:\n",
        "\n",
        "- $x_A:$ quantidade de alimento A a ser consumida\n",
        "- $x_B$: quantidade de alimento B a ser consumida\n",
        "- $x_C$: quantidade de alimento C a ser consumida\n",
        "\n",
        "### Função Objetivo\n",
        "\n",
        "Queremos minimizar o custo total da dieta:\n",
        "\n",
        "$$\\text{Min } Z = 0,50x_A + 0,30x_B + 0,80x_C$$\n",
        "\n",
        "### Restrições\n",
        "\n",
        "As restrições são baseadas nos requisitos nutricionais diários:\n",
        "\n",
        "1. Restrição de Nutriente 1:\n",
        "\n",
        "$$5x_A + 4x_B + 6x_C \\geq 50$$\n",
        "\n",
        "2. Restrição de Nutriente 2:\n",
        "\n",
        "$$1x_A + 2x_B + 3x_C \\geq 20$$\n",
        "\n",
        "3. Restrição de Nutriente 3:\n",
        "\n",
        "$$3x_A + 1x_B + 2x_C \\geq 30$$\n",
        "\n",
        "4. Restrições de Não Negatividade:\n",
        "\n",
        "$$x_A \\geq 0,\n",
        "x_B \\geq 0,\n",
        "x_C \\geq 0$$\n",
        "\n",
        "## Conclusão\n",
        "\n",
        "Neste problema, buscamos determinar as quantidades ideais de alimentos A, B e C que minimizam o custo total, ao mesmo tempo em que atendemos às necessidades nutricionais mínimas. Vamos utilizar esse modelo como o primeiro para a resolução com o solver Gurobi."
      ],
      "metadata": {
        "id": "NVH2ig9J2YfS"
      }
    },
    {
      "cell_type": "markdown",
      "source": [
        "#Resolvendo o primeiro modelo com o Gurobi\n",
        "Vamos precisar instalar a biblioteca gurobipy e importar as bibliotecas necessárias"
      ],
      "metadata": {
        "id": "DuFfxgvG8pxB"
      }
    },
    {
      "cell_type": "code",
      "execution_count": null,
      "metadata": {
        "id": "yVdgBuHSzfzE"
      },
      "outputs": [],
      "source": [
        "!pip install gurobipy #Instalar o gurobipy"
      ]
    },
    {
      "cell_type": "code",
      "source": [
        "#importar as bibliotecas\n",
        "import pandas as pd\n",
        "import gurobipy as gp\n",
        "from gurobipy import GRB"
      ],
      "metadata": {
        "id": "zV6bG9bc8ENf"
      },
      "execution_count": null,
      "outputs": []
    },
    {
      "cell_type": "markdown",
      "source": [
        "##Uma primeira alternativa para implementar o modelo"
      ],
      "metadata": {
        "id": "haBbqul1gXCf"
      }
    },
    {
      "cell_type": "markdown",
      "source": [
        "Vamos fazer, inicialmente, uma resolução de forma bem básica. Escreveremos de forma explícita o modelo."
      ],
      "metadata": {
        "id": "62qkkBfw9Idd"
      }
    },
    {
      "cell_type": "code",
      "source": [
        "# Criar um novo modelo\n",
        "model1 = gp.Model(\"dieta_v1\")\n",
        "\n",
        "# Criar variáveis de decisão\n",
        "xA = model1.addVar(vtype=GRB.CONTINUOUS, name=\"xA\")\n",
        "xB = model1.addVar(vtype=GRB.CONTINUOUS, name=\"xB\")\n",
        "xC = model1.addVar(vtype=GRB.CONTINUOUS, name=\"xC\")\n",
        "\n",
        "# Definir a função objetivo\n",
        "model1.setObjective(0.5 * xA + 0.3 * xB + 0.8 * xC, GRB.MINIMIZE)\n",
        "\n",
        "# Adicionar restrição nutriente 1\n",
        "model1.addConstr(5 * xA + 4 * xB + 6 * xC >= 50, \"nutriente_1\")\n",
        "\n",
        "# Adicionar restrição nutriente 2\n",
        "model1.addConstr(1 * xA + 2 * xB + 3 * xC >= 20, \"nutriente_2\")\n",
        "\n",
        "# Adicionar restrição nutriente 3\n",
        "model1.addConstr(3 * xA + 1 * xB + 2 * xC >= 30, \"nutriente_3\")\n",
        "\n",
        "# Resolver o modelo\n",
        "model1.optimize()"
      ],
      "metadata": {
        "id": "_40p8edf9Z50"
      },
      "execution_count": null,
      "outputs": []
    },
    {
      "cell_type": "markdown",
      "source": [
        "Uma vez que resolvemos o modelo, o interesse natural é saber quais são os valores ótimos para cada variável de decisão"
      ],
      "metadata": {
        "id": "m5C416eM_B_v"
      }
    },
    {
      "cell_type": "code",
      "source": [
        "print(f'O valor de xA é {xA.X}')\n",
        "print(f'O valor de xB é {xB.X}')\n",
        "print(f'O valor de xC é {xC.X}')\n",
        "print(f'Com isso, o valor da função objetivo é de {model1.ObjVal}')"
      ],
      "metadata": {
        "id": "5ijvI-83_LFK"
      },
      "execution_count": null,
      "outputs": []
    },
    {
      "cell_type": "markdown",
      "source": [
        "Você pode ter já imaginado que no caso de termos muitas variáveis, tanto criar o modelo quanto escrever o resultado pode ser inviável na prática.\n",
        "Para nossa sorte, estamos utilizando uma linguagem de programação e temos acesso aos recursos dela. Por exemplo, uma forma alternativa ao código da última célula é:"
      ],
      "metadata": {
        "id": "K6PvzXUtB9e3"
      }
    },
    {
      "cell_type": "code",
      "source": [
        "for v in model1.getVars():\n",
        "    print(f\"O valor de {v.VarName} é {v.X}\")\n",
        "print(f\"Com isso, o valor da função objetivo é de {model1.ObjVal}\")"
      ],
      "metadata": {
        "id": "nFaJ3HP6CiEu"
      },
      "execution_count": null,
      "outputs": []
    },
    {
      "cell_type": "markdown",
      "source": [
        "##Organizando a construção do modelo para uma forma mais escalável\n",
        "\n",
        "Vamos pensar agora no modelo nas seguintes etapas: parâmetros, variáveis de decisão, função objetivo e restrições. Com isso, vamos criar algumas variações de implementação para o mesmo modelo.\n",
        "\n",
        "###Parâmetros\n",
        "$Custos=\\begin{bmatrix} 0.5 & 0.3 & 0.8\\end{bmatrix}$\n",
        "\n",
        "$Nutrientes=\\begin{bmatrix}\n",
        "  5 & 1 & 3 \\\\\n",
        "  4 & 2 & 1 \\\\\n",
        "  6 & 3 & 2\n",
        "  \\end{bmatrix}$\n",
        "\n",
        "$RequisitosNutricionais=\\begin{bmatrix} 50 & 20 & 30\\end{bmatrix}$"
      ],
      "metadata": {
        "id": "ezl46wdoDV6J"
      }
    },
    {
      "cell_type": "code",
      "source": [
        "import numpy as np\n",
        "\n",
        "# Criando a matriz de nutrientes (em gramas por unidade de alimento)\n",
        "nutrientes = np.array([\n",
        "    [5, 1, 3],  # Alimento A\n",
        "    [4, 2, 1],  # Alimento B\n",
        "    [6, 3, 2]   # Alimento C\n",
        "])\n",
        "\n",
        "# Criando o vetor de custos (em R$ por unidade de alimento)\n",
        "custos = np.array([0.50, 0.30, 0.80])\n",
        "\n",
        "# Criando o vetor de requisitos nutricionais diários (em gramas)\n",
        "requisitos_nutricionais = np.array([50, 20, 30])"
      ],
      "metadata": {
        "id": "59v4WlgFFf8W"
      },
      "execution_count": null,
      "outputs": []
    },
    {
      "cell_type": "code",
      "source": [
        "model2 = gp.Model('dieta_v2')\n",
        "# Adicionando variáveis ao modelo\n",
        "vars_x = []\n",
        "vars_x.append(model2.addVar(lb=0, ub=GRB.INFINITY, obj=custos[0], vtype=GRB.CONTINUOUS, name=f'x_{0}'))\n",
        "vars_x.append(model2.addVar(lb=0, ub=GRB.INFINITY, obj=custos[1], vtype=GRB.CONTINUOUS, name=f'x_{1}'))\n",
        "vars_x.append(model2.addVar(lb=0, ub=GRB.INFINITY, obj=custos[2], vtype=GRB.CONTINUOUS, name=f'x_{2}'))\n",
        "\n",
        "# Definindo o sense do modelo\n",
        "model2.ModelSense = GRB.MINIMIZE\n",
        "\n",
        "expr = gp.LinExpr()\n",
        "# Adicionando restrições ao modelo\n",
        "\n",
        "\n",
        "#for k in range(0, 3):\n",
        "#    expr.clear()\n",
        "#    for p in range(0, 3):\n",
        "#        expr.addTerms(nutrientes[p,k],vars_x[p])\n",
        "#    model2.addConstr(expr>=requisitos_nutricionais[k], f'R_{k}')\n",
        "\n",
        "expr.clear()\n",
        "expr.addTerms(nutrientes[0,0],vars_x[0])\n",
        "expr.addTerms(nutrientes[1,0],vars_x[1])\n",
        "expr.addTerms(nutrientes[2,0],vars_x[2])\n",
        "model2.addConstr(expr>=requisitos_nutricionais[0], f'R_{0}')\n",
        "\n",
        "expr.clear()\n",
        "expr.addTerms(nutrientes[0,1],vars_x[0])\n",
        "expr.addTerms(nutrientes[1,1],vars_x[1])\n",
        "expr.addTerms(nutrientes[2,1],vars_x[2])\n",
        "model2.addConstr(expr>=requisitos_nutricionais[1], f'R_{1}')\n",
        "\n",
        "expr.clear()\n",
        "expr.addTerms(nutrientes[0,2],vars_x[0])\n",
        "expr.addTerms(nutrientes[1,2],vars_x[1])\n",
        "expr.addTerms(nutrientes[2,2],vars_x[2])\n",
        "model2.addConstr(expr>=requisitos_nutricionais[2], f'R_{2}')\n",
        "\n",
        "# Escrevendo o arquivo .lp do modelo\n",
        "model2.write('model2.lp')\n",
        "\n",
        "# Resolvendo o modelo\n",
        "model2.optimize()"
      ],
      "metadata": {
        "id": "Es-iS8hiR9RS"
      },
      "execution_count": null,
      "outputs": []
    },
    {
      "cell_type": "code",
      "source": [
        "model3 = gp.Model('dieta_v3')\n",
        "# Adicionando variáveis ao modelo\n",
        "vars_x = []\n",
        "for i in range(0, 3):\n",
        "    vars_x.append(model3.addVar(lb=0, ub=GRB.INFINITY, obj=custos[i], vtype=GRB.CONTINUOUS, name=f'x_{i}'))\n",
        "\n",
        "# Definindo o sense do modelo\n",
        "model3.ModelSense = GRB.MINIMIZE\n",
        "\n",
        "expr = gp.LinExpr()\n",
        "# Adicionando restrições ao modelo\n",
        "for i in range(0, 3):\n",
        "    expr.clear()\n",
        "    for j in range(0, 3):\n",
        "        expr.addTerms(nutrientes[j,i],vars_x[j])\n",
        "    model3.addConstr(expr>=requisitos_nutricionais[i], f'R_{i}')\n",
        "\n",
        "# Escrevendo o arquivo .lp do modelo\n",
        "model3.write('model3.lp')\n",
        "\n",
        "# Resolvendo o modelo\n",
        "model3.optimize()"
      ],
      "metadata": {
        "id": "36uDxFLWZHYp"
      },
      "execution_count": null,
      "outputs": []
    },
    {
      "cell_type": "code",
      "source": [
        "model4 = gp.Model('dieta_v4')\n",
        "\n",
        "# Adicionando variáveis ao modelo\n",
        "vars_x = []\n",
        "for i in range(0, 3):\n",
        "    vars_x.append(model4.addVar(lb=0, ub=GRB.INFINITY, obj=custos[i], vtype=GRB.CONTINUOUS, name=f'x_{i}'))\n",
        "\n",
        "# Definindo o sense do modelo\n",
        "model4.ModelSense = GRB.MINIMIZE\n",
        "\n",
        "# Adicionando restrições ao modelo\n",
        "for i in range(0, 3):\n",
        "    model4.addConstr(gp.quicksum(nutrientes[j, i] * vars_x[j] for j in range(0,3)) >= requisitos_nutricionais[i], f'R_{i}')\n",
        "\n",
        "# Escrevendo o arquivo .lp do modelo\n",
        "model4.write('model4.lp')\n",
        "\n",
        "# Resolvendo o modelo\n",
        "model4.optimize()"
      ],
      "metadata": {
        "id": "pgpniJQNZ-uM"
      },
      "execution_count": null,
      "outputs": []
    },
    {
      "cell_type": "code",
      "source": [
        "model5 = gp.Model('dieta_v5')\n",
        "\n",
        "# Adicionando variáveis ao modelo\n",
        "vars_x = []\n",
        "for i in range(0, 3):\n",
        "    vars_x.append(model5.addVar(lb=0, ub=GRB.INFINITY, obj=custos[i], vtype=GRB.CONTINUOUS, name=f'x_{i}'))\n",
        "\n",
        "# Definindo o sense do modelo\n",
        "model5.ModelSense = GRB.MINIMIZE\n",
        "\n",
        "# Adicionando restrições ao modelo\n",
        "model5.addConstrs((gp.quicksum(nutrientes[j, i] * vars_x[j] for j in range(0,3)) >= requisitos_nutricionais[i] for i in range(0,3)), \"R\")\n",
        "\n",
        "# Escrevendo o arquivo .lp do modelo\n",
        "model5.write('model5.lp')\n",
        "\n",
        "# Resolvendo o modelo\n",
        "model5.optimize()"
      ],
      "metadata": {
        "id": "wOTSPA6gba9c"
      },
      "execution_count": null,
      "outputs": []
    },
    {
      "cell_type": "markdown",
      "source": [
        "##Extra\n",
        "Acesse o link https://www.gurobi.com/documentation/current/examples/diet_py.html e verifique as semelhanças e diferenças em relação ao que realizamos até aqui."
      ],
      "metadata": {
        "id": "ywLiRylwc3Q4"
      }
    },
    {
      "cell_type": "markdown",
      "source": [
        "##Exercício\n",
        "Criar um novo vetor de custos e uma nova matriz de nutrientes incluindo dois novos alimentos. Após isso, criar um novo código que implemente e resolva o modelo com as novas condições."
      ],
      "metadata": {
        "id": "9C4h9I9GYeCq"
      }
    },
    {
      "cell_type": "code",
      "source": [
        "#código"
      ],
      "metadata": {
        "id": "zV27yVVkY-Z5"
      },
      "execution_count": null,
      "outputs": []
    },
    {
      "cell_type": "markdown",
      "source": [
        "##Exercício\n",
        "Fazer uma variação dos custos de cada alimento de 0.1 a 1.0 e obter quais seriam as quantidades ótimas de cada um deles, assim como o custo total, para cada um dos cenários.\n",
        "Você pode escolher a forma mais que julgar mais apropriada para apresentar os resultados."
      ],
      "metadata": {
        "id": "VItRgsZSAhpu"
      }
    },
    {
      "cell_type": "code",
      "source": [
        "#código"
      ],
      "metadata": {
        "id": "ga5VNu1oBdEt"
      },
      "execution_count": null,
      "outputs": []
    },
    {
      "cell_type": "markdown",
      "source": [
        "#Problema do Transporte\n",
        "\n",
        "O problema do transporte é um dos problemas clássicos na pesquisa operacional, fundamental para diversas áreas como logística, cadeia de suprimentos e gerenciamento de operações. Imagine uma empresa que precisa transportar produtos de várias fábricas para diferentes centros de distribuição da maneira mais eficiente possível. A otimização desse processo não só reduz custos, mas também melhora a eficiência operacional e a satisfação do cliente.\n",
        "\n",
        "## Visão Geral\n",
        "\n",
        "O problema do transporte envolve determinar a quantidade de bens a serem transportados de várias origens (como fábricas ou armazéns) para vários destinos (como centros de distribuição ou lojas), de modo a minimizar o custo total de transporte. Cada origem tem uma oferta limitada de bens e cada destino tem uma demanda específica a ser atendida.\n",
        "\n",
        "### Exemplo Prático\n",
        "\n",
        "Suponha que você gerencie uma rede de fábricas que produzem um produto essencial. As fábricas estão localizadas em diferentes cidades e precisam enviar esses produtos para lojas em outras cidades. Cada fábrica tem uma quantidade limitada de produtos que pode enviar, e cada loja tem uma demanda específica que precisa ser atendida. Além disso, o custo de transporte entre diferentes fábricas e lojas varia dependendo da distância e dos meios de transporte disponíveis. Como você pode planejar o transporte de forma a minimizar os custos e garantir que todas as demandas sejam atendidas?\n",
        "\n",
        "### Impacto e Benefícios\n",
        "\n",
        "Resolver o problema do transporte de forma eficiente traz inúmeros benefícios:\n",
        "\n",
        "- **Redução de Custos**: Minimiza os custos operacionais, aumentando a lucratividade da empresa.\n",
        "- **Melhoria da Eficiência**: Otimiza o uso dos recursos disponíveis, como veículos e combustível.\n",
        "- **Atendimento à Demanda**: Garante que os produtos cheguem aos destinos certos, evitando faltas e excesso de estoque.\n",
        "- **Sustentabilidade**: Reduz o consumo de energia e as emissões de carbono ao otimizar rotas de transporte.\n",
        "\n",
        "Ao longo desta aula, você aprenderá a modelar e resolver o problema do transporte utilizando técnicas de programação linear e ferramentas computacionais avançadas. Prepare-se para descobrir como a matemática pode transformar a logística e a cadeia de suprimentos, tornando processos complexos mais simples e eficientes."
      ],
      "metadata": {
        "id": "gXcOg_lEhL0j"
      }
    },
    {
      "cell_type": "markdown",
      "source": [
        "## Formulação Matemática do Problema do Transporte\n",
        "\n",
        "O objetivo é minimizar o custo de transporte de bens de várias origens para vários destinos, respeitando as restrições de oferta e demanda.\n",
        "\n",
        "### Dados do Problema\n",
        "\n",
        "- $m$: Número de origens.\n",
        "- $n$: Número de destinos.\n",
        "- $s_i$: Capacidade de oferta da origem $i$, para $i = 1, 2, \\dots, m$.\n",
        "- $d_j$: Demanda do destino $j$, para $j = 1, 2, \\dots, n$.\n",
        "- $c_{ij}$: Custo de transporte por unidade de $i$ para $j$.\n",
        "\n",
        "### Variáveis de Decisão\n",
        "\n",
        "- $x_{ij}$: Quantidade a ser transportada da origem $i$ para o destino $j$.\n",
        "\n",
        "### Função Objetivo\n",
        "\n",
        "O objetivo é minimizar o custo total de transporte:\n",
        "\n",
        "$$\n",
        "\\text{Minimizar} \\quad Z = \\sum_{i=1}^{m} \\sum_{j=1}^{n} c_{ij} \\cdot x_{ij}\n",
        "$$\n",
        "\n",
        "### Restrições\n",
        "\n",
        "1. **Restrições de Oferta**: A quantidade total transportada a partir de cada origem $i$ não deve exceder sua capacidade $s_i$:\n",
        "\n",
        "$$\n",
        "\\sum_{j=1}^{n} x_{ij} \\leq s_i, \\quad i = 1, 2, \\dots, m\n",
        "$$\n",
        "\n",
        "2. **Restrições de Demanda**: A quantidade total recebida em cada destino $j$ deve atender exatamente à sua demanda $d_j$:\n",
        "\n",
        "$$\n",
        "\\sum_{i=1}^{m} x_{ij} = d_j, \\quad j = 1, 2, \\dots, n\n",
        "$$\n",
        "\n",
        "3. **Restrições de Não Negatividade**: As variáveis de decisão $x_{ij}$ devem ser não negativas:\n",
        "\n",
        "$$\n",
        "x_{ij} \\geq 0, \\quad i = 1, 2, \\dots, m, \\quad j = 1, 2, \\dots, n\n",
        "$$\n"
      ],
      "metadata": {
        "id": "GSNyVd26QKjZ"
      }
    },
    {
      "cell_type": "code",
      "source": [
        "import gurobipy as gp\n",
        "from gurobipy import GRB\n",
        "\n",
        "# Dados do problema\n",
        "oferta = [20, 30, 25]  # Capacidade nas origens\n",
        "demanda = [10, 25, 20, 20]  # Demanda nos destinos\n",
        "custos = [\n",
        "    [8, 6, 10, 9],   # Custos de transporte da Origem 1 para os Destinos 1, 2, 3, 4\n",
        "    [9, 12, 13, 7],  # Custos de transporte da Origem 2 para os Destinos 1, 2, 3, 4\n",
        "    [14, 9, 16, 5]   # Custos de transporte da Origem 3 para os Destinos 1, 2, 3, 4\n",
        "]\n",
        "\n",
        "n_origens = len(oferta)\n",
        "n_destinos = len(demanda)\n",
        "\n",
        "# Criação do modelo\n",
        "model = gp.Model('Transporte')\n",
        "\n",
        "# Variáveis de decisão: quantidade transportada de cada fábrica para cada armazém\n",
        "x = model.addVars(n_origens, n_destinos, vtype=GRB.CONTINUOUS, name=\"x\")\n",
        "\n",
        "# Função objetivo: minimizar o custo total de transporte\n",
        "model.setObjective(gp.quicksum(custos[i][j] * x[i, j] for i in range(n_origens) for j in range(n_destinos)), GRB.MINIMIZE)\n",
        "\n",
        "# Restrições de oferta\n",
        "model.addConstrs((gp.quicksum(x[i, j] for j in range(n_destinos)) <= oferta[i] for i in range(n_origens)), name=\"Supply\")\n",
        "\n",
        "# Restrições de demanda\n",
        "model.addConstrs((gp.quicksum(x[i, j] for i in range(n_origens)) == demanda[j] for j in range(n_destinos)), name=\"Demand\")\n",
        "\n",
        "# Otimizar o modelo\n",
        "model.optimize()\n",
        "\n",
        "# Exibir a solução\n",
        "if model.status == GRB.OPTIMAL:\n",
        "    print(\"Solução ótima encontrada:\")\n",
        "    for i in range(n_origens):\n",
        "        for j in range(n_destinos):\n",
        "            print(f'Quantidade transportada da Origem {i+1} para o Destino {j+1}: {x[i, j].x}')\n",
        "    print(f'Custo total de transporte: {model.objVal}')\n",
        "else:\n",
        "    print(\"Nenhuma solução ótima encontrada.\")"
      ],
      "metadata": {
        "id": "zdfjH-RzOSgO",
        "colab": {
          "base_uri": "https://localhost:8080/",
          "height": 395
        },
        "outputId": "efebc10b-471e-4a3c-f85c-8bbe96d4edec"
      },
      "execution_count": 1,
      "outputs": [
        {
          "output_type": "error",
          "ename": "ModuleNotFoundError",
          "evalue": "No module named 'gurobipy'",
          "traceback": [
            "\u001b[0;31m---------------------------------------------------------------------------\u001b[0m",
            "\u001b[0;31mModuleNotFoundError\u001b[0m                       Traceback (most recent call last)",
            "\u001b[0;32m<ipython-input-1-20990b0e7293>\u001b[0m in \u001b[0;36m<cell line: 1>\u001b[0;34m()\u001b[0m\n\u001b[0;32m----> 1\u001b[0;31m \u001b[0;32mimport\u001b[0m \u001b[0mgurobipy\u001b[0m \u001b[0;32mas\u001b[0m \u001b[0mgp\u001b[0m\u001b[0;34m\u001b[0m\u001b[0;34m\u001b[0m\u001b[0m\n\u001b[0m\u001b[1;32m      2\u001b[0m \u001b[0;32mfrom\u001b[0m \u001b[0mgurobipy\u001b[0m \u001b[0;32mimport\u001b[0m \u001b[0mGRB\u001b[0m\u001b[0;34m\u001b[0m\u001b[0;34m\u001b[0m\u001b[0m\n\u001b[1;32m      3\u001b[0m \u001b[0;34m\u001b[0m\u001b[0m\n\u001b[1;32m      4\u001b[0m \u001b[0;31m# Dados do problema\u001b[0m\u001b[0;34m\u001b[0m\u001b[0;34m\u001b[0m\u001b[0m\n\u001b[1;32m      5\u001b[0m \u001b[0moferta\u001b[0m \u001b[0;34m=\u001b[0m \u001b[0;34m[\u001b[0m\u001b[0;36m20\u001b[0m\u001b[0;34m,\u001b[0m \u001b[0;36m30\u001b[0m\u001b[0;34m,\u001b[0m \u001b[0;36m25\u001b[0m\u001b[0;34m]\u001b[0m  \u001b[0;31m# Capacidade nas origens\u001b[0m\u001b[0;34m\u001b[0m\u001b[0;34m\u001b[0m\u001b[0m\n",
            "\u001b[0;31mModuleNotFoundError\u001b[0m: No module named 'gurobipy'",
            "",
            "\u001b[0;31m---------------------------------------------------------------------------\u001b[0;32m\nNOTE: If your import is failing due to a missing package, you can\nmanually install dependencies using either !pip or !apt.\n\nTo view examples of installing some common dependencies, click the\n\"Open Examples\" button below.\n\u001b[0;31m---------------------------------------------------------------------------\u001b[0m\n"
          ],
          "errorDetails": {
            "actions": [
              {
                "action": "open_url",
                "actionText": "Open Examples",
                "url": "/notebooks/snippets/importing_libraries.ipynb"
              }
            ]
          }
        }
      ]
    },
    {
      "cell_type": "markdown",
      "source": [
        "## Paradoxo no Problema do Transporte\n",
        "\n",
        "Ainda pensando no problema de transporte para instâncias pequenas podemos ter alguns exemplos interessantes, como o descrito a seguir.\n",
        "\n",
        "### Exemplo\n",
        "\n",
        "Considere um problema de transporte com 2 origens (fábricas) e 2 destinos (armazéns). As capacidades das origens e as demandas dos destinos são as seguintes:\n",
        "\n",
        "- **Origens (Capacidades)**:\n",
        "  - Fábrica 1: 500 unidades\n",
        "  - Fábrica 2: 1000 unidades\n",
        "\n",
        "- **Destinos (Demandas)**:\n",
        "  - Armazém A: 700 unidades\n",
        "  - Armazém B: 800 unidades\n",
        "\n",
        "### Matriz de Custos de Transporte\n",
        "\n",
        "Inicialmente, os custos de transporte por unidade (em unidades monetárias) entre as origens e os destinos são:\n",
        "\n",
        "|            | Armazém A | Armazém B |\n",
        "|------------|-----------|-----------|\n",
        "| **Fábrica 1** | 5         | 30         |\n",
        "| **Fábrica 2** | 32         | 6         |\n",
        "\n",
        "### Solução Ótima Inicial\n",
        "\n",
        "Solução ótima encontrada:\n",
        "Quantidade transportada da Origem 1 para o Destino 1: 500.0\n",
        "Quantidade transportada da Origem 1 para o Destino 2: 0.0\n",
        "Quantidade transportada da Origem 2 para o Destino 1: 200.0\n",
        "Quantidade transportada da Origem 2 para o Destino 2: 800.0\n",
        "Custo total de transporte: 13700.0\n",
        "\n",
        "### Mudança de oferta e demanda\n",
        "\n",
        "A empresa teve um aumento de demanda e adaptou a capacidade das fábricas, de forma que\n",
        "\n",
        "- **Origens (Capacidades)**:\n",
        "  - Fábrica 1: 600 unidades\n",
        "  - Fábrica 2: 1000 unidades\n",
        "\n",
        "- **Destinos (Demandas)**:\n",
        "  - Armazém A: 700 unidades\n",
        "  - Armazém B: 900 unidades\n",
        "\n",
        "### Nova Solução Ótima\n",
        "\n",
        "Solução ótima encontrada:\n",
        "Quantidade transportada da Origem 1 para o Destino 1: 600.0\n",
        "Quantidade transportada da Origem 1 para o Destino 2: 0.0\n",
        "Quantidade transportada da Origem 2 para o Destino 1: 100.0\n",
        "Quantidade transportada da Origem 2 para o Destino 2: 900.0\n",
        "Custo total de transporte: 11600.0\n",
        "\n",
        "### Conclusão\n",
        "\n",
        "????????????????????????????????????????????"
      ],
      "metadata": {
        "id": "H3Dj4SLLTecW"
      }
    },
    {
      "cell_type": "code",
      "source": [
        "import gurobipy as gp\n",
        "from gurobipy import GRB\n",
        "\n",
        "# Dados do problema\n",
        "oferta = [600, 1000]  # Capacidade nas origens\n",
        "demanda = [700, 900]  # Demanda nos destinos\n",
        "custos = [\n",
        "    [5, 30],  # Custos de transporte da Origem 1 para os Destinos 1, 2\n",
        "    [32, 6],  # Custos de transporte da Origem 2 para os Destinos 1, 2\n",
        "]\n",
        "\n",
        "n_origens = len(oferta)\n",
        "n_destinos = len(demanda)\n",
        "\n",
        "# Criação do modelo\n",
        "model = gp.Model('Transporte')\n",
        "\n",
        "# Variáveis de decisão: quantidade transportada de cada fábrica para cada armazém\n",
        "x = model.addVars(n_origens, n_destinos, vtype=GRB.CONTINUOUS, name=\"x\")\n",
        "\n",
        "# Função objetivo: minimizar o custo total de transporte\n",
        "model.setObjective(gp.quicksum(custos[i][j] * x[i, j] for i in range(n_origens) for j in range(n_destinos)), GRB.MINIMIZE)\n",
        "\n",
        "# Restrições de oferta\n",
        "model.addConstrs((gp.quicksum(x[i, j] for j in range(n_destinos)) <= oferta[i] for i in range(n_origens)), name=\"Supply\")\n",
        "\n",
        "# Restrições de demanda\n",
        "model.addConstrs((gp.quicksum(x[i, j] for i in range(n_origens)) == demanda[j] for j in range(n_destinos)), name=\"Demand\")\n",
        "\n",
        "# Otimizar o modelo\n",
        "model.optimize()\n",
        "\n",
        "# Exibir a solução\n",
        "if model.status == GRB.OPTIMAL:\n",
        "    print(\"Solução ótima encontrada:\")\n",
        "    for i in range(n_origens):\n",
        "        for j in range(n_destinos):\n",
        "            print(f'Quantidade transportada da Origem {i+1} para o Destino {j+1}: {x[i, j].x}')\n",
        "    print(f'Custo total de transporte: {model.objVal}')\n",
        "else:\n",
        "    print(\"Nenhuma solução ótima encontrada.\")"
      ],
      "metadata": {
        "id": "rrrDqK02VtGU"
      },
      "execution_count": null,
      "outputs": []
    },
    {
      "cell_type": "markdown",
      "source": [
        "## Problemas maiores\n",
        "\n",
        "Vamos agora fazer um código para nos possibilitar a geração e resolução de problemas com mais origens e mais destinos"
      ],
      "metadata": {
        "id": "dzzsV13fXYun"
      }
    },
    {
      "cell_type": "code",
      "source": [
        "import random\n",
        "\n",
        "# Função para gerar dados aleatórios para o problema de transporte\n",
        "def gerar_dados_transporte(n_origens, n_destinos, max_oferta=100, max_demanda=100, max_custo=20):\n",
        "    # Gerar ofertas aleatórias para cada origem\n",
        "    ofertas = [random.randint(1, max_oferta) for _ in range(n_origens)]\n",
        "\n",
        "    # Gerar demandas aleatórias para cada destino\n",
        "    demandas = [random.randint(1, max_demanda) for _ in range(n_destinos)]\n",
        "\n",
        "    # Gerar matriz de custos aleatórios entre origens e destinos\n",
        "    custos = [[random.randint(1, max_custo) for _ in range(n_destinos)] for _ in range(n_origens)]\n",
        "\n",
        "    return ofertas, demandas, custos\n"
      ],
      "metadata": {
        "id": "99Sm2wCmXpEb"
      },
      "execution_count": null,
      "outputs": []
    },
    {
      "cell_type": "code",
      "source": [
        "def problema_transporte(nome, custos, oferta, demanda):\n",
        "    # Criação do modelo\n",
        "    env = gp.Env(params=params)\n",
        "    model = gp.Model(nome, env=env)\n",
        "    n_origens = len(oferta)\n",
        "    n_destinos = len(demanda)\n",
        "\n",
        "    # Variáveis de decisão: quantidade transportada de cada fábrica para cada armazém\n",
        "    x = model.addVars(n_origens, n_destinos, vtype=GRB.CONTINUOUS, name=\"x\")\n",
        "\n",
        "    # Função objetivo: minimizar o custo total de transporte\n",
        "    model.setObjective(gp.quicksum(custos[i][j] * x[i, j] for i in range(n_origens) for j in range(n_destinos)), GRB.MINIMIZE)\n",
        "\n",
        "    # Restrições de oferta\n",
        "    model.addConstrs((gp.quicksum(x[i, j] for j in range(n_destinos)) <= oferta[i] for i in range(n_origens)), name=\"Supply\")\n",
        "\n",
        "    # Restrições de demanda\n",
        "    model.addConstrs((gp.quicksum(x[i, j] for i in range(n_origens)) == demanda[j] for j in range(n_destinos)), name=\"Demand\")\n",
        "\n",
        "    # Otimizar o modelo\n",
        "    model.optimize()\n",
        "\n",
        "    # Exibir a solução\n",
        "    if model.status == GRB.OPTIMAL:\n",
        "        print(\"Solução ótima encontrada:\")\n",
        "    #    for i in range(n_origens):\n",
        "    #        for j in range(n_destinos):\n",
        "    #            if(x[i, j].x>0):\n",
        "    #                print(f'Quantidade transportada da Origem {i+1} para o Destino {j+1}: {x[i, j].x}')\n",
        "    #    print(f'Custo total de transporte: {model.objVal}')\n",
        "    else:\n",
        "        print(\"Nenhuma solução ótima encontrada.\")"
      ],
      "metadata": {
        "id": "w1BdFJWYYNvL"
      },
      "execution_count": null,
      "outputs": []
    },
    {
      "cell_type": "code",
      "source": [
        "# Exemplo de uso\n",
        "n_origens = 2000  # Número de origens (fábricas)\n",
        "n_destinos = 2000  # Número de destinos (armazéns)\n",
        "\n",
        "ofertas, demandas, custos = gerar_dados_transporte(n_origens, n_destinos)\n",
        "#print(ofertas)\n",
        "#print(demandas)\n",
        "problema_transporte('transp', custos, ofertas, demandas)"
      ],
      "metadata": {
        "id": "qVk8DBxpX-c5"
      },
      "execution_count": null,
      "outputs": []
    },
    {
      "cell_type": "code",
      "source": [],
      "metadata": {
        "id": "VSvpzzxZbf2S"
      },
      "execution_count": null,
      "outputs": []
    },
    {
      "cell_type": "code",
      "source": [
        "print(custos)"
      ],
      "metadata": {
        "id": "BA1FhVOgYBxd"
      },
      "execution_count": null,
      "outputs": []
    },
    {
      "cell_type": "markdown",
      "source": [
        "#Problema de Transporte com Transbordo e Custos Fixos\n",
        "\n",
        "Após dominar o problema clássico de transporte, é hora de explorar variações mais complexas que refletem melhor os desafios do mundo real. O problema de transporte com transbordo e custos fixos é uma dessas variações, onde não apenas a movimentação direta de bens é considerada, mas também a possibilidade de passar por pontos intermediários (transbordos) e a inclusão de custos fixos de operação. Essa complexidade adicional torna a modelagem e a solução ainda mais desafiadoras e recompensadoras, permitindo uma otimização mais realista e eficaz dos processos logísticos.\n",
        "\n",
        "## Visão Geral\n",
        "\n",
        "O problema de transporte com transbordo adiciona uma camada de complexidade ao permitir que bens sejam movimentados através de pontos intermediários antes de chegarem ao destino final. Além disso, os custos fixos representam despesas que ocorrem independentemente da quantidade de bens transportados, como a ativação de um centro de distribuição ou o aluguel de um armazém. Esses aspectos refletem melhor as condições reais enfrentadas por empresas de logística e cadeias de suprimentos.\n",
        "\n",
        "### Exemplo Prático\n",
        "\n",
        "Imagine que você gerencia a logística de uma grande empresa de varejo com múltiplos armazéns e centros de distribuição. Além dos custos variáveis de transporte entre fábricas e lojas, há centros de transbordo que podem ser usados para otimizar as rotas e reduzir os custos totais. No entanto, cada centro de transbordo possui um custo fixo de operação que deve ser considerado. Como você pode planejar a movimentação de produtos para minimizar os custos totais, incluindo tanto os custos variáveis quanto os fixos, e atender à demanda de todas as lojas?\n",
        "\n",
        "### Impacto e Benefícios\n",
        "\n",
        "Resolver o problema de transporte com transbordo e custos fixos oferece vários benefícios significativos:\n",
        "\n",
        "- **Otimização Avançada**: Permite uma otimização mais precisa, considerando pontos intermediários e custos fixos, refletindo melhor os desafios logísticos reais.\n",
        "- **Redução de Custos**: Minimiza tanto os custos variáveis quanto os custos fixos, resultando em uma economia substancial para a empresa.\n",
        "- **Flexibilidade Operacional**: A inclusão de pontos de transbordo aumenta a flexibilidade nas rotas de transporte, permitindo ajustes mais dinâmicos às mudanças na demanda ou na oferta.\n",
        "- **Eficiência Logística**: Melhora a eficiência logística ao permitir uma melhor utilização dos recursos e uma distribuição mais equilibrada dos produtos.\n",
        "\n"
      ],
      "metadata": {
        "id": "qkzNiE5LhVu-"
      }
    },
    {
      "cell_type": "markdown",
      "source": [
        "## Formulação Matemática do Problema do Transporte com Custo Fixo\n",
        "\n",
        "O objetivo é minimizar o custo de transporte de bens de várias origens para vários destinos, respeitando as restrições de oferta e demanda.\n",
        "\n",
        "### Dados do Problema\n",
        "\n",
        "- $m$: Número de origens.\n",
        "- $n$: Número de destinos.\n",
        "- $s_i$: Capacidade de oferta da origem $i$, para $i = 1, 2, \\dots, m$.\n",
        "- $d_j$: Demanda do destino $j$, para $j = 1, 2, \\dots, n$.\n",
        "- $c_{ij}$: Custo de transporte por unidade de $i$ para $j$.\n",
        "- $f_{ij}$: Custo fixo para habiltar a conexão entre a origem $i$ e o destino j $j$.\n",
        "\n",
        "### Variáveis de Decisão\n",
        "\n",
        "- $x_{ij}$: Quantidade a ser transportada da origem $i$ para o destino $j$.\n",
        "- $y_{ij}$: Variável binária para decisão de se habilita a conexão entre a origem $i$ e o destino $j$ (1, se a conexão é habilitada e 0 caso contrário).\n",
        "\n",
        "### Função Objetivo\n",
        "\n",
        "O objetivo é minimizar o custo total de transporte:\n",
        "\n",
        "$$\n",
        "\\text{Minimizar} \\quad Z = \\sum_{i=1}^{m} \\sum_{j=1}^{n} c_{ij} \\cdot x_{ij} + f_{ij} \\cdot y_{ij}\n",
        "$$\n",
        "\n",
        "### Restrições\n",
        "\n",
        "1. **Restrições de Oferta**: A quantidade total transportada a partir de cada origem $i$ não deve exceder sua capacidade $s_i$:\n",
        "\n",
        "$$\n",
        "\\sum_{j=1}^{n} x_{ij} \\leq s_i, \\quad i = 1, 2, \\dots, m\n",
        "$$\n",
        "\n",
        "2. **Restrições de Demanda**: A quantidade total recebida em cada destino $j$ deve atender exatamente à sua demanda $d_j$:\n",
        "\n",
        "$$\n",
        "\\sum_{i=1}^{m} x_{ij} = d_j, \\quad j = 1, 2, \\dots, n\n",
        "$$\n",
        "\n",
        "3. **Restrições de tranporte conforme habilitação da conexão**: Somente pode ocorrer tranporte entre a origem $i$ e o destino $j$ se a conexão for habilitada\n",
        "\n",
        "$$\n",
        "x_{ij} <= M y_{ij}, \\quad i = 1, 2, \\dots, m, \\quad j = 1, 2, \\dots, n\n",
        "$$\n",
        "\n",
        "4. **Restrições de Não Negatividade**: As variáveis de decisão $x_{ij}$ devem ser não negativas:\n",
        "\n",
        "$$\n",
        "x_{ij} \\geq 0, \\quad i = 1, 2, \\dots, m, \\quad j = 1, 2, \\dots, n\n",
        "$$"
      ],
      "metadata": {
        "id": "eA2N2s61TrHy"
      }
    },
    {
      "cell_type": "code",
      "source": [
        "import random\n",
        "\n",
        "# Função para gerar dados aleatórios para o problema de transporte\n",
        "def gerar_dados_transporte_comcf(n_origens, n_destinos, max_oferta=100, max_demanda=100, max_custo_variavel=20, max_custo_fixo=800):\n",
        "    # Gerar ofertas aleatórias para cada origem\n",
        "    ofertas = [random.randint(1, max_oferta) for _ in range(n_origens)]\n",
        "\n",
        "    # Gerar demandas aleatórias para cada destino\n",
        "    demandas = [random.randint(1, max_demanda) for _ in range(n_destinos)]\n",
        "\n",
        "    # Gerar matriz de custos variáveis aleatórios entre origens e destinos\n",
        "    custos_variaveis = [[random.randint(1, max_custo_variavel) for _ in range(n_destinos)] for _ in range(n_origens)]\n",
        "\n",
        "    # Gerar matriz de custos fixos aleatórios entre origens e destinos\n",
        "    custos_fixos = [[random.randint(1, max_custo_fixo) for _ in range(n_destinos)] for _ in range(n_origens)]\n",
        "\n",
        "    return ofertas, demandas, custos_variaveis, custos_fixos"
      ],
      "metadata": {
        "id": "hhdqtUKqY4d8"
      },
      "execution_count": null,
      "outputs": []
    },
    {
      "cell_type": "code",
      "source": [
        "def problema_transporte_comcf(nome, custos_variaveis, custos_fixos, oferta, demanda):\n",
        "    # Criação do modelo\n",
        "    env = gp.Env(params=params)\n",
        "    model = gp.Model(nome, env=env)\n",
        "    n_origens = len(oferta)\n",
        "    n_destinos = len(demanda)\n",
        "\n",
        "    # Variáveis de decisão: quantidade transportada de cada fábrica para cada armazém\n",
        "    x = model.addVars(n_origens, n_destinos, vtype=GRB.CONTINUOUS, name=\"x\")\n",
        "\n",
        "    # Variáveis de habilitação de cada conexão\n",
        "    y = model.addVars(n_origens, n_destinos, vtype=GRB.BINARY, name=\"y\")\n",
        "\n",
        "    # Função objetivo: minimizar o custo total de transporte\n",
        "    model.setObjective(gp.quicksum(custos_variaveis[i][j] * x[i, j] + custos_fixos[i][j] * y[i, j] for i in range(n_origens) for j in range(n_destinos)), GRB.MINIMIZE)\n",
        "\n",
        "    # Restrições de oferta\n",
        "    model.addConstrs((gp.quicksum(x[i, j] for j in range(n_destinos)) <= oferta[i] for i in range(n_origens)), name=\"Supply\")\n",
        "\n",
        "    # Restrições de demanda\n",
        "    model.addConstrs((gp.quicksum(x[i, j] for i in range(n_origens)) == demanda[j] for j in range(n_destinos)), name=\"Demand\")\n",
        "\n",
        "    # Restrições de transportar somente em conexões habilitadas\n",
        "    model.addConstrs((x[i,j]<=100000*y[i,j] for i in range(n_origens) for j in range(n_destinos)), name='Habilitacoes')\n",
        "\n",
        "    # Escrever o modelo.lp\n",
        "    model.write('TransporteCF.lp')\n",
        "\n",
        "    # Otimizar o modelo\n",
        "    model.optimize()\n",
        "\n",
        "    # Exibir a solução\n",
        "    if model.status == GRB.OPTIMAL:\n",
        "        print(\"Solução ótima encontrada:\")\n",
        "    #    for i in range(n_origens):\n",
        "    #        for j in range(n_destinos):\n",
        "    #            if(x[i, j].x>0):\n",
        "    #                print(f'Quantidade transportada da Origem {i+1} para o Destino {j+1}: {x[i, j].x}')\n",
        "    #    print(f'Custo total de transporte: {model.objVal}')\n",
        "    else:\n",
        "        print(\"Nenhuma solução ótima encontrada.\")"
      ],
      "metadata": {
        "id": "MOvCOLWOZhcq"
      },
      "execution_count": null,
      "outputs": []
    },
    {
      "cell_type": "code",
      "source": [
        "# Exemplo de uso\n",
        "n_origens = 160  # Número de origens (fábricas)\n",
        "n_destinos = 100  # Número de destinos (armazéns)\n",
        "\n",
        "ofertas, demandas, custos_variaveis, custos_fixos = gerar_dados_transporte_comcf(n_origens, n_destinos)\n",
        "#print(ofertas)\n",
        "#print(demandas)\n",
        "problema_transporte_comcf('transpCF', custos_variaveis, custos_fixos, ofertas, demandas)"
      ],
      "metadata": {
        "id": "d0N57apnbjHy"
      },
      "execution_count": null,
      "outputs": []
    },
    {
      "cell_type": "markdown",
      "source": [
        "#Problema de designação\n",
        "\n",
        "O problema de designação é um dos problemas mais práticos e úteis na pesquisa operacional, aplicável a áreas como gerenciamento de recursos humanos, planejamento de operações e alocação de tarefas. Imagine que você precisa atribuir tarefas específicas a diferentes trabalhadores ou alocar máquinas a diferentes trabalhos de maneira eficiente. Resolver esse problema adequadamente pode aumentar a produtividade, reduzir custos e melhorar a qualidade do trabalho.\n",
        "\n",
        "## Visão Geral\n",
        "\n",
        "O problema de designação envolve a atribuição de um conjunto de tarefas a um conjunto de agentes (trabalhadores, máquinas, etc.) de maneira que cada tarefa seja realizada por exatamente um agente e vice-versa, minimizando o custo total ou maximizando a eficiência total da designação. Cada combinação de tarefa-agente tem um custo ou uma pontuação associada.\n",
        "\n",
        "### Exemplo Prático\n",
        "\n",
        "Considere um hospital onde vários médicos precisam ser alocados a diferentes turnos e salas de operação. Cada médico tem um conjunto de habilidades específicas e preferências de horário, enquanto cada turno tem requisitos específicos. Como você pode alocar os médicos aos turnos de maneira que o hospital funcione de forma eficiente, respeitando as preferências dos médicos e atendendo às necessidades dos pacientes?\n",
        "\n",
        "### Impacto e Benefícios\n",
        "\n",
        "Resolver o problema de designação de forma eficiente oferece vários benefícios:\n",
        "\n",
        "- **Otimização de Recursos**: Garante que cada agente (médico, trabalhador, máquina) seja alocado à tarefa mais adequada, maximizando a produtividade.\n",
        "- **Redução de Custos**: Minimiza os custos associados a alocações ineficientes, como horas extras desnecessárias ou subutilização de recursos.\n",
        "- **Satisfação dos Agentes**: Considera as preferências e habilidades dos agentes, melhorando a satisfação e o desempenho no trabalho.\n",
        "- **Aprimoramento da Qualidade**: Aloca os recursos de forma que a qualidade das operações seja maximizada.\n",
        "\n",
        "Durante esta aula, você aprenderá a modelar e resolver o problema de designação usando métodos de otimização e algoritmos especializados. Ao compreender e aplicar essas técnicas, você será capaz de enfrentar desafios complexos de alocação em diversas áreas, transformando a eficiência e a produtividade das operações."
      ],
      "metadata": {
        "id": "8Uh98GJpi5id"
      }
    },
    {
      "cell_type": "markdown",
      "source": [
        "#Problema de $p$-medianas\n",
        "\n",
        "Na era da globalização e da alta competitividade, as empresas buscam constantemente otimizar suas operações para reduzir custos e aumentar a eficiência. Um dos desafios mais críticos é a localização estratégica de facilidades, como armazéns, centros de distribuição ou pontos de venda, de modo a minimizar os custos de transporte e melhorar o atendimento ao cliente. O problema das p-medianas é uma poderosa ferramenta de otimização que ajuda a resolver esse desafio, garantindo que os centros de serviço sejam posicionados de forma a servir melhor uma população dispersa.\n",
        "\n",
        "## Visão Geral\n",
        "\n",
        "O problema das $p$-medianas envolve selecionar $p$ locais (medianas) a partir de um conjunto de candidatos de modo a minimizar a soma das distâncias entre cada cliente e o centro de serviço mais próximo. Este problema é altamente relevante para a localização de centros de distribuição, armazéns, hospitais, escolas e outros tipos de instalações. A principal vantagem de resolver o problema das $p$-medianas é a capacidade de reduzir significativamente os custos operacionais, melhorando a satisfação do cliente por meio de um serviço mais rápido e eficiente.\n",
        "\n",
        "### Exemplo Prático\n",
        "\n",
        "Considere uma rede de varejo que está planejando abrir novos centros de distribuição para atender suas lojas espalhadas por uma região. Cada loja tem uma demanda específica e os custos de transporte são proporcionais à distância entre as lojas e os centros de distribuição. O objetivo é escolher os melhores locais para instalar $p$ centros de distribuição de modo que a distância total percorrida pelos produtos seja minimizada. Como você pode determinar os melhores locais para esses centros de distribuição para otimizar a rede logística da empresa?\n",
        "\n",
        "### Impacto e Benefícios\n",
        "\n",
        "Resolver o problema das $p$-medianas oferece vários benefícios estratégicos:\n",
        "\n",
        "- **Redução de Custos**: Minimiza os custos de transporte e logística ao reduzir as distâncias percorridas.\n",
        "- **Melhoria no Atendimento ao Cliente**: Posiciona os centros de serviço mais próximos dos clientes, melhorando a rapidez e a eficiência no atendimento.\n",
        "- **Planejamento Estratégico**: Auxilia no planejamento de longo prazo, permitindo uma expansão controlada e eficiente da rede de serviços.\n",
        "- **Utilização Eficiente de Recursos**: Garante que os recursos sejam alocados de maneira otimizada, maximizando a utilização das instalações.\n"
      ],
      "metadata": {
        "id": "PDiw2npihgrp"
      }
    },
    {
      "cell_type": "markdown",
      "source": [
        "##Formulação matemática do problemas das $p$-medianas\n",
        "\n",
        "O problema das p-medianas consiste em determinar a localização $p$ facilidades (medianas) em um conjunto de possíveis locais, de forma que a soma das distâncias dos pontos de demanda até as facilidades mais próximas seja minimizada.\n",
        "\n",
        "Por exemplo, uma rede de pizzarias tem estudo sobre a demanda de cada bairro (ou outro tipo de região) de uma cidade e deseja abrir $p$ unidades. Quais as melhores localizações para elas?\n",
        "\n",
        "Vamos começar com a formulação da versão mais simplificada do problema e, na sequência, fazemos inclusão de alguns casos adicionais.\n",
        "\n",
        "### Parâmetros\n",
        "\n",
        "- $I$: Conjunto de nós que representam os pontos de demanda (bairros).\n",
        "- $J$: Conjunto de nós que representam os locais potenciais para as instalações (medianas).\n",
        "- $d_{ij}$: Distância entre o ponto de demanda $i \\in I$ e o local $j \\in J$.\n",
        "- $p$: Número de instalações (medianas) a serem habilitadas.\n",
        "- $D_{i}$: Demanda no ponto $i$\n",
        "- $C_{j}$: Capacidade da instalação j\n",
        "- $K_{j}$: Custo de habilitar a instalação j\n",
        "\n",
        "### Variáveis de Decisão\n",
        "\n",
        "- $x_{ij}$: Variável binária que assume o valor 1 se o ponto de demanda $i$ é atendido pela instalação localizada em $j$, e 0 caso contrário.\n",
        "- $y_j$: Variável binária que assume o valor 1 se uma instalação é habilitda em $j$, e 0 caso contrário.\n",
        "\n",
        "### Função Objetivo\n",
        "\n",
        "Minimizar a soma das distâncias entre cada ponto de demanda e a instalação para qual ele é alocado:\n",
        "\n",
        "$$\n",
        "\\text{Minimizar} \\quad \\sum_{i \\in I} \\sum_{j \\in J} D_{i} \\cdot d_{ij} \\cdot x_{ij}\n",
        "$$\n",
        "\n",
        "### Restrições\n",
        "\n",
        "1. Cada ponto de demanda $i$ deve ser atendido por exatamente uma instalação:\n",
        "\n",
        "$$\n",
        "\\sum_{j \\in J} x_{ij} = 1 \\quad \\forall i \\in I\n",
        "$$\n",
        "\n",
        "2. Um ponto de demanda $i$ só pode ser atendido por uma instalação $j$ se ela for habilitda\n",
        "A capacidade de uma instalação não pode ser excedidade pelas demandas a ela locada.\n",
        ":\n",
        "\n",
        "$$\n",
        "\\sum_{i \\in I} D_{i} \\cdot x_{ij} \\leq C_j \\cdot y_j \\quad \\forall j \\in J\n",
        "$$\n",
        "\n",
        "3. Exatamente $p$ intalações devem ser habilitadas:\n",
        "\n",
        "$$\n",
        "\\sum_{j \\in J} y_j = p\n",
        "$$\n",
        "\n",
        "4. $x_{ij}$ e $y_j$ são variáveis binárias:\n",
        "\n",
        "$$\n",
        "x_{ij} \\in \\{0, 1\\} \\quad \\forall i \\in I, \\, j \\in J\n",
        "$$\n",
        "$$\n",
        "y_j \\in \\{0, 1\\} \\quad \\forall j \\in J\n",
        "$$\n",
        "\n",
        "### Interpretação\n",
        "\n",
        "- A função objetivo minimiza a soma total das distâncias entre os pontos de demanda e as instalações habilitadas.\n",
        "- As restrições garantem que cada cliente seja atendido por uma única instalação, que sejam habilitadas exatamente $p$ instalações, e que a alocação dos pontos de demanda seja consistente com as habilitações das instalações."
      ],
      "metadata": {
        "id": "hPrsQ66_IibF"
      }
    },
    {
      "cell_type": "code",
      "source": [
        "import gurobipy as gp\n",
        "from gurobipy import GRB\n",
        "\n",
        "# Dados de exemplo\n",
        "# Número de pontos de demanda e candidatos a instalação\n",
        "num_pontos_demanda = 5\n",
        "p = 2  # número de instalações a serem abertas\n",
        "\n",
        "# Matriz de custos/distâncias entre pontos de demanda e instalações\n",
        "custos = [\n",
        "    [10, 20, 30, 40, 50],\n",
        "    [20, 30, 40, 50, 60],\n",
        "    [30, 40, 50, 60, 70],\n",
        "    [40, 50, 60, 70, 80],\n",
        "    [50, 60, 70, 80, 90]\n",
        "]\n",
        "\n",
        "# Inicialização do modelo\n",
        "modelo = gp.Model(\"p-medianas\")\n",
        "\n",
        "# Variáveis de decisão\n",
        "# x[i,j] = 1 se o ponto de demanda i for atendido pela instalação j\n",
        "x = modelo.addVars(num_pontos_demanda, num_pontos_demanda, vtype=GRB.BINARY, name=\"x\")\n",
        "\n",
        "# y[j] = 1 se a instalação j for habilitada\n",
        "y = modelo.addVars(num_pontos_demanda, vtype=GRB.BINARY, name=\"y\")\n",
        "\n",
        "# Função objetivo: minimizar a soma dos custos de alocação\n",
        "modelo.setObjective(gp.quicksum(custos[i][j] * x[i, j] for i in range(num_pontos_demanda) for j in range(num_pontos_demanda)), GRB.MINIMIZE)\n",
        "\n",
        "# Restrições\n",
        "# Cada ponto de demanda deve ser atendido por exatamente uma instalação\n",
        "for i in range(num_pontos_demanda):\n",
        "    modelo.addConstr(gp.quicksum(x[i, j] for j in range(num_pontos_demanda)) == 1, name=f\"assign_{i}\")\n",
        "\n",
        "# Um ponto de demanda só pode ser atendido por uma instalação que está aberta\n",
        "for i in range(num_pontos_demanda):\n",
        "    for j in range(num_pontos_demanda):\n",
        "        modelo.addConstr(x[i, j] <= y[j], name=f\"service_{i}_{j}\")\n",
        "\n",
        "# O número total de instalações abertas deve ser igual a p\n",
        "modelo.addConstr(gp.quicksum(y[j] for j in range(num_pontos_demanda)) == p, name=\"total_opened\")\n",
        "\n",
        "# Otimizar o modelo\n",
        "modelo.optimize()\n",
        "\n",
        "# Exibir a solução\n",
        "if modelo.status == GRB.OPTIMAL:\n",
        "    print(\"Custo total: \", modelo.objVal)\n",
        "    print(\"Instalações abertas em:\")\n",
        "    for j in range(num_pontos_demanda):\n",
        "        if y[j].x >= 0.99:\n",
        "            print(f\"Instalação {j}\")\n",
        "    print(\"Alocações dos pontos de demanda:\")\n",
        "    for i in range(num_pontos_demanda):\n",
        "        for j in range(num_pontos_demanda):\n",
        "            if x[i, j].x >= 0.99:\n",
        "                print(f\"Ponto de demanda {i} é atendido pela instalação {j}\")\n",
        "else:\n",
        "    print(\"Nenhuma solução ótima encontrada.\")"
      ],
      "metadata": {
        "id": "fTcgQ6c5Lnzu"
      },
      "execution_count": null,
      "outputs": []
    },
    {
      "cell_type": "markdown",
      "source": [
        "Ao analisarmos a formulação do modelo, podemos perceber que os principais parâmetros necessário são a matriz de custos (distâncias) e o número de $p$ medianas a serem escolhidas.\n",
        "\n",
        "Agora, vamos fazer com que a criação do modelo seja realizada como uma função."
      ],
      "metadata": {
        "id": "L4x2bGWRcJ06"
      }
    },
    {
      "cell_type": "code",
      "source": [
        "def modelo_pmedianas(custos, p):\n",
        "\n",
        "    num_pontos_demanda = len(custos) # Considerando que a matriz de custos é uma lista de lista\n",
        "    p = 2  # número de instalações a serem abertas\n",
        "\n",
        "    # Inicialização do modelo\n",
        "    modelo = gp.Model(\"p-medianas\")\n",
        "\n",
        "    # Variáveis de decisão\n",
        "    # x[i,j] = 1 se o ponto de demanda i for atendido pela instalação j\n",
        "    x = modelo.addVars(num_pontos_demanda, num_pontos_demanda, vtype=GRB.BINARY, name=\"x\")\n",
        "\n",
        "    # y[j] = 1 se a instalação j for habilitada\n",
        "    y = modelo.addVars(num_pontos_demanda, vtype=GRB.BINARY, name=\"y\")\n",
        "\n",
        "    # Função objetivo: minimizar a soma dos custos de alocação\n",
        "    modelo.setObjective(gp.quicksum(custos[i][j] * x[i, j] for i in range(num_pontos_demanda) for j in range(num_pontos_demanda)), GRB.MINIMIZE)\n",
        "\n",
        "    # Restrições\n",
        "    # Cada ponto de demanda deve ser atendido por exatamente uma instalação\n",
        "    for i in range(num_pontos_demanda):\n",
        "        modelo.addConstr(gp.quicksum(x[i, j] for j in range(num_pontos_demanda)) == 1, name=f\"assign_{i}\")\n",
        "\n",
        "    # Um ponto de demanda só pode ser atendido por uma instalação que está aberta\n",
        "    for i in range(num_pontos_demanda):\n",
        "        for j in range(num_pontos_demanda):\n",
        "            modelo.addConstr(x[i, j] <= y[j], name=f\"service_{i}_{j}\")\n",
        "\n",
        "    # O número total de instalações abertas deve ser igual a p\n",
        "    modelo.addConstr(gp.quicksum(y[j] for j in range(num_pontos_demanda)) == p, name=\"total_opened\")\n",
        "\n",
        "    # Otimizar o modelo\n",
        "    modelo.optimize()\n",
        "\n",
        "    # Exibir a solução\n",
        "    if modelo.status == GRB.OPTIMAL:\n",
        "        print(\"Custo total: \", modelo.objVal)\n",
        "        print(\"Instalações abertas em:\")\n",
        "        for j in range(num_pontos_demanda):\n",
        "            if y[j].x > 0.99:\n",
        "                print(f\"Instalação {j}\")\n",
        "        print(\"Alocações dos pontos de demanda:\")\n",
        "        for i in range(num_pontos_demanda):\n",
        "            for j in range(num_pontos_demanda):\n",
        "                if x[i, j].x > 0.99:\n",
        "                    print(f\"Ponto de demanda {i} é atendido pela instalação {j}\")\n",
        "    else:\n",
        "        print(\"Nenhuma solução ótima encontrada.\")"
      ],
      "metadata": {
        "id": "spX9nBBwdT7R"
      },
      "execution_count": null,
      "outputs": []
    },
    {
      "cell_type": "code",
      "source": [
        "custos = [\n",
        "    [10, 20, 30, 40, 50],\n",
        "    [20, 30, 40, 50, 60],\n",
        "    [30, 40, 50, 60, 70],\n",
        "    [40, 50, 60, 70, 80],\n",
        "    [50, 60, 70, 80, 90]\n",
        "]\n",
        "modelo_pmedianas(custos, 2)"
      ],
      "metadata": {
        "id": "7v_1neJCd9mN"
      },
      "execution_count": null,
      "outputs": []
    },
    {
      "cell_type": "markdown",
      "source": [
        "Com isso, o nosso código mais reutilizável, mas não conseguimos ter acesso aos valores das variáveis para outras análises.\n",
        "\n",
        "Vamos agora separar a função que construímos em duas."
      ],
      "metadata": {
        "id": "Ahkqq-hSejTJ"
      }
    },
    {
      "cell_type": "code",
      "source": [
        "def criar_resolver_modelo_pmedianas(custos, p):\n",
        "\n",
        "    num_pontos_demanda = len(custos) # Considerando que a matriz de custos é uma lista de lista\n",
        "\n",
        "    # Inicialização do modelo\n",
        "    modelo = gp.Model(\"p-medianas\")\n",
        "\n",
        "    # Variáveis de decisão\n",
        "    # x[i,j] = 1 se o ponto de demanda i for atendido pela instalação j\n",
        "    x = modelo.addVars(num_pontos_demanda, num_pontos_demanda, vtype=GRB.BINARY, name=\"x\")\n",
        "\n",
        "    # y[j] = 1 se a instalação j for habilitada\n",
        "    y = modelo.addVars(num_pontos_demanda, vtype=GRB.BINARY, name=\"y\")\n",
        "\n",
        "    # Função objetivo: minimizar a soma dos custos de alocação\n",
        "    modelo.setObjective(gp.quicksum(custos[i][j] * x[i, j] for i in range(num_pontos_demanda) for j in range(num_pontos_demanda)), GRB.MINIMIZE)\n",
        "\n",
        "    # Restrições\n",
        "    # Cada ponto de demanda deve ser atendido por exatamente uma instalação\n",
        "    for i in range(num_pontos_demanda):\n",
        "        modelo.addConstr(gp.quicksum(x[i, j] for j in range(num_pontos_demanda)) == 1, name=f\"assign_{i}\")\n",
        "\n",
        "    # Um ponto de demanda só pode ser atendido por uma instalação que está aberta\n",
        "    for i in range(num_pontos_demanda):\n",
        "        for j in range(num_pontos_demanda):\n",
        "            modelo.addConstr(x[i, j] <= y[j], name=f\"service_{i}_{j}\")\n",
        "\n",
        "    # O número total de instalações abertas deve ser igual a p\n",
        "    modelo.addConstr(gp.quicksum(y[j] for j in range(num_pontos_demanda)) == p, name=\"total_opened\")\n",
        "\n",
        "    # Otimizar o modelo\n",
        "    modelo.optimize()\n",
        "\n",
        "    # Retornar a solucao\n",
        "    return modelo, x, y"
      ],
      "metadata": {
        "id": "c4-223Ape-E2"
      },
      "execution_count": null,
      "outputs": []
    },
    {
      "cell_type": "code",
      "source": [
        "def exibir_solucao_pmedianas(modelo, x, y, p):\n",
        "    # Exibir a solução\n",
        "    num_pontos_demanda=p\n",
        "    if modelo.status == GRB.OPTIMAL:\n",
        "        print(\"Custo total: \", modelo.objVal)\n",
        "        print(\"Instalações abertas em:\")\n",
        "        for j in range(num_pontos_demanda):\n",
        "            if y[j].x > 0.8:\n",
        "                print(f\"Instalação {j}\")\n",
        "        print(\"Alocações dos pontos de demanda:\")\n",
        "        for i in range(num_pontos_demanda):\n",
        "            for j in range(num_pontos_demanda):\n",
        "                if x[i, j].x > 0.8:\n",
        "                    print(f\"Ponto de demanda {i} é atendido pela instalação {j}\")\n",
        "    else:\n",
        "        print(\"Nenhuma solução ótima encontrada.\")"
      ],
      "metadata": {
        "id": "0NqAEfZee-IT"
      },
      "execution_count": null,
      "outputs": []
    },
    {
      "cell_type": "code",
      "source": [
        "custos = [\n",
        "    [10, 20, 30, 40, 50],\n",
        "    [20, 30, 40, 50, 60],\n",
        "    [30, 40, 50, 60, 70],\n",
        "    [40, 50, 60, 70, 80],\n",
        "    [50, 60, 70, 80, 90]\n",
        "]\n",
        "modelo, x, y = criar_resolver_modelo_pmedianas(custos, 3)\n",
        "exibir_solucao_pmedianas(modelo, x, y, 3)"
      ],
      "metadata": {
        "id": "iMShZzLGgbVv"
      },
      "execution_count": null,
      "outputs": []
    },
    {
      "cell_type": "markdown",
      "source": [
        "Agora vamos ler as coordenadas de um arquivo .csv e calcularemos a matriz de distância Euclidiana a partir dele"
      ],
      "metadata": {
        "id": "ZXrCofd7LdDx"
      }
    },
    {
      "cell_type": "code",
      "source": [
        "import pandas as pd\n",
        "\n",
        "# Carregar o arquivo CSV\n",
        "df = pd.read_csv('Ex1_0.txt', sep='\\t')\n",
        "\n",
        "# Verificar se as colunas X e Y estão corretas\n",
        "print(df.head())"
      ],
      "metadata": {
        "id": "X2Ry2-BsLoPE"
      },
      "execution_count": null,
      "outputs": []
    },
    {
      "cell_type": "code",
      "source": [
        "import numpy as np\n",
        "from scipy.spatial.distance import cdist\n",
        "\n",
        "# Extrair as coordenadas X e Y do DataFrame\n",
        "coords = df[['X', 'Y']].values\n",
        "\n",
        "# Calcular a matriz de distância euclidiana\n",
        "dist_matrix = cdist(coords, coords, metric='euclidean')\n",
        "print(dist_matrix)"
      ],
      "metadata": {
        "id": "xiSAkIdZLpQA"
      },
      "execution_count": null,
      "outputs": []
    },
    {
      "cell_type": "code",
      "source": [
        "modelo, x, y = criar_resolver_modelo_pmedianas(dist_matrix, 6)\n",
        "modelo.write('model.lp')\n",
        "exibir_solucao_pmedianas(modelo, x, y, 6)"
      ],
      "metadata": {
        "id": "GR43xe4vMOmp"
      },
      "execution_count": null,
      "outputs": []
    },
    {
      "cell_type": "markdown",
      "source": [
        "#Problema do Caixeiro Viajante\n",
        "\n",
        "O problema do caixeiro viajante (TSP - Traveling Salesman Problem) é um dos problemas mais emblemáticos e estudados na pesquisa operacional e na ciência da computação. Sua simplicidade na formulação contrasta com a complexidade para encontrar a solução ótima, tornando-o um desafio fascinante e essencial para quem deseja aprofundar seus conhecimentos em otimização. Resolver o TSP não é apenas um exercício acadêmico; ele tem aplicações práticas em logística, roteamento de veículos, planejamento de circuitos e muitas outras áreas onde a eficiência operacional é crucial.\n",
        "\n",
        "## Visão Geral\n",
        "\n",
        "O TSP consiste em encontrar a rota mais curta que permite a um vendedor visitar um conjunto de cidades exatamente uma vez cada e retornar à cidade de origem. Apesar de sua formulação simples, o TSP é um problema NP-difícil, o que significa que não há um algoritmo conhecido que resolva todos os casos em tempo polinomial. No entanto, conforme o tamanho do problema, é viável a resolução de forma exata. Além disso, existem várias técnicas e heurísticas que podem encontrar soluções boas e, às vezes, ótimas para problemas de tamanho prático.\n",
        "\n",
        "### Exemplo Prático\n",
        "\n",
        "Imagine que você é responsável pelo planejamento de rotas para uma empresa de entregas. A empresa tem uma frota de veículos que deve visitar vários clientes distribuídos em uma cidade ou região. A rota planejada deve minimizar a distância total percorrida, reduzindo assim os custos de combustível e o tempo de entrega. Como você pode determinar a melhor rota que permita a cada veículo visitar todos os clientes designados uma vez e retornar ao ponto de partida?\n",
        "\n",
        "### Impacto e Benefícios\n",
        "\n",
        "Resolver o TSP de forma eficiente traz inúmeros benefícios práticos:\n",
        "\n",
        "- **Redução de Custos**: Minimiza os custos operacionais, especialmente em termos de combustível e manutenção de veículos.\n",
        "- **Melhoria na Eficiência**: Otimiza o uso dos recursos, garantindo que as entregas sejam feitas no menor tempo possível.\n",
        "- **Satisfação do Cliente**: Reduz o tempo de entrega, melhorando a experiência do cliente.\n",
        "- **Sustentabilidade**: Reduz as emissões de carbono ao otimizar as rotas de transporte.\n",
        "\n",
        "\n",
        "Ao longo desta aula, você aprenderá a modelar e resolver o TSP utilizando a modelagem exata e será comentado sobre abordagens alternativas de resolução para o problema.\n",
        "\n",
        "Prepare-se para explorar um dos problemas mais fascinantes da pesquisa operacional e descobrir como a matemática e a computação podem transformar desafios complexos em soluções eficientes."
      ],
      "metadata": {
        "id": "kPUTHneDhkon"
      }
    },
    {
      "cell_type": "markdown",
      "source": [
        "#Problema de Coleta e Entrega\n",
        "\n",
        "No mundo dinâmico e competitivo da logística e distribuição, a eficiência no planejamento de rotas é crucial para o sucesso de qualquer operação. O problema de coleta e entrega aborda um cenário realista onde veículos não apenas entregam mercadorias, mas também coletam itens de vários pontos. Esse problema é essencial para empresas de logística, serviços de entrega e até operações de ridesharing, onde a otimização das rotas pode levar a uma significativa redução de custos e melhoria do serviço.\n",
        "\n",
        "## Visão Geral\n",
        "\n",
        "O problema de coleta e entrega envolve planejar rotas para veículos que devem coletar itens de vários locais e entregá-los em outros destinos, obedecendo a restrições de capacidade dos veículos e janelas de tempo para coleta e entrega. A complexidade deste problema aumenta devido à necessidade de considerar tanto as coletas quanto as entregas, garantindo que cada item coletado seja entregue no destino correto sem ultrapassar a capacidade do veículo.\n",
        "\n",
        "### Exemplo Prático\n",
        "\n",
        "Imagine que você gerencia uma empresa de entrega de móveis. Cada dia, seus caminhões saem para coletar móveis de diferentes fornecedores e entregá-los aos clientes. Cada caminhão tem uma capacidade limitada, e tanto os fornecedores quanto os clientes têm janelas de tempo específicas para coleta e entrega. O desafio é planejar as rotas de forma que todas as coletas e entregas sejam realizadas dentro das janelas de tempo e a distância total percorrida pelos caminhões seja minimizada. Como você pode otimizar essas rotas para reduzir custos e melhorar a eficiência operacional?\n",
        "\n",
        "### Impacto e Benefícios\n",
        "\n",
        "Resolver o problema de coleta e entrega de forma eficiente oferece vários benefícios importantes:\n",
        "\n",
        "- **Redução de Custos**: Minimiza os custos operacionais, especialmente em termos de combustível e tempo de viagem.\n",
        "- **Aumento da Eficiência**: Otimiza o uso da frota de veículos, garantindo que as coletas e entregas sejam feitas da forma mais eficiente possível.\n",
        "- **Melhoria no Serviço ao Cliente**: Cumpre os horários prometidos de coleta e entrega, aumentando a satisfação do cliente.\n",
        "- **Sustentabilidade**: Reduz as emissões de carbono ao otimizar as rotas, contribuindo para práticas mais sustentáveis.\n"
      ],
      "metadata": {
        "id": "zhZsTu53hp6Z"
      }
    },
    {
      "cell_type": "markdown",
      "source": [
        "#Problema da Mochila\n",
        "\n",
        "O problema da mochila (ou knapsack problem) é um dos problemas mais clássicos e fundamentais na pesquisa operacional e em teoria da computação. Ele está presente em diversas situações práticas onde há a necessidade de selecionar um subconjunto de itens que maximiza o valor total sem exceder uma capacidade limitada. Esse problema é crucial para decisões de alocação de recursos, planejamento de produção, seleção de investimentos e muitas outras áreas onde a otimização é necessária.\n",
        "\n",
        "## Visão Geral\n",
        "\n",
        "O problema da mochila envolve escolher itens de um conjunto de opções, cada um com um valor e um peso (ou custo), de modo a maximizar o valor total dos itens selecionados sem ultrapassar a capacidade máxima da mochila. Existem diversas variações deste problema, incluindo a mochila 0-1, onde cada item pode ser escolhido no máximo uma vez, e a mochila fracionária, onde itens podem ser divididos.\n",
        "\n",
        "### Exemplo Prático\n",
        "\n",
        "Imagine que você é um aventureiro se preparando para uma expedição e precisa selecionar quais itens levar em sua mochila. Cada item tem um valor (utilidade para a expedição) e um peso (quanto espaço ocupa na mochila). Sua mochila tem uma capacidade limitada, então você não pode levar tudo. Como você pode escolher os itens que maximizarão a utilidade total sem exceder a capacidade da mochila?\n",
        "\n",
        "### Impacto e Benefícios\n",
        "\n",
        "Resolver o problema da mochila de forma eficiente oferece vários benefícios:\n",
        "\n",
        "- **Otimização de Recursos**: Garante o uso eficiente dos recursos disponíveis, maximizando o retorno ou a utilidade.\n",
        "- **Tomada de Decisão Informada**: Auxilia na seleção de investimentos, produtos ou projetos com base em critérios objetivos.\n",
        "- **Eficiência Operacional**: Melhora o planejamento de produção e a alocação de recursos em processos industriais.\n",
        "- **Planejamento Estratégico**: Facilita a criação de estratégias de longo prazo com base na otimização de recursos limitados.\n"
      ],
      "metadata": {
        "id": "u_8uv8ErhuH4"
      }
    },
    {
      "cell_type": "markdown",
      "source": [
        "#Problema de Definição de Tabela de Campeonatos\n",
        "\n",
        "Em muitos esportes e competições, a definição de tabelas de campeonato é uma tarefa crítica que pode impactar a justiça e a logística do evento. Garantir que os jogos ou partidas sejam distribuídos de maneira equilibrada, minimizando viagens e conflitos de horários, é essencial para o sucesso de qualquer torneio. Resolver problemas de definição de tabelas de campeonato exige uma combinação de otimização e criatividade, e as soluções têm aplicação prática em uma ampla variedade de contextos, desde ligas esportivas até competições acadêmicas e profissionais.\n",
        "\n",
        "## Visão Geral\n",
        "\n",
        "Os problemas de definição de tabelas de campeonato envolvem a criação de um cronograma de jogos que atende a várias restrições e critérios. Isso inclui garantir que cada time jogue contra todos os outros times, minimizar o número de viagens para jogos fora de casa, evitar conflitos de horários e garantir que todos os times tenham oportunidades justas de competir. Esse problema é desafiador porque as restrições podem ser complexas e conflitantes, exigindo técnicas avançadas de otimização para encontrar soluções viáveis e eficientes.\n",
        "\n",
        "### Exemplo Prático\n",
        "\n",
        "Imagine que você é o organizador de uma liga de futebol com 20 times. Cada time deve jogar contra todos os outros times uma vez em jogos de ida e volta. Além disso, você precisa garantir que os jogos em casa e fora de casa sejam distribuídos de maneira equilibrada, minimizar as viagens dos times para reduzir custos e evitar que dois times joguem mais de uma vez na mesma semana. Como você pode criar uma tabela de campeonato que atenda a todas essas restrições e seja justa para todos os times?\n",
        "\n",
        "### Impacto e Benefícios\n",
        "\n",
        "Resolver problemas de definição de tabelas de campeonato de forma eficiente oferece vários benefícios importantes:\n",
        "\n",
        "- **Equidade**: Garante que todos os times tenham as mesmas oportunidades de competir, evitando vantagens ou desvantagens injustas.\n",
        "- **Redução de Custos**: Minimiza os custos de viagem e logística, especialmente em ligas onde os times precisam viajar grandes distâncias.\n",
        "- **Satisfação dos Participantes**: Melhora a experiência dos times e dos torcedores, garantindo que os jogos sejam distribuídos de maneira lógica e previsível.\n",
        "- **Organização Eficiente**: Facilita a organização do campeonato, reduzindo a possibilidade de conflitos de horários e problemas logísticos.\n"
      ],
      "metadata": {
        "id": "d0ppi9JuhyKg"
      }
    },
    {
      "cell_type": "markdown",
      "source": [
        "#Planejamento de Requisição de Materiais\n",
        "\n",
        "No ambiente competitivo da manufatura moderna, a eficiência na gestão de inventário e no planejamento de produção é crucial para o sucesso. O Planejamento de Requisição de Materiais (MRP - Material Requirements Planning) é uma metodologia essencial que ajuda as empresas a gerenciar seus processos de produção e inventário de maneira eficiente, garantindo que os materiais certos estejam disponíveis no momento certo para atender às demandas de produção. Com o MRP, é possível reduzir custos, melhorar a produtividade e aumentar a satisfação do cliente.\n",
        "\n",
        "## Visão Geral\n",
        "\n",
        "O MRP é um sistema que calcula as quantidades de materiais necessários para a produção e determina quando esses materiais devem ser adquiridos ou produzidos. Baseia-se na demanda prevista, nos níveis de estoque atuais e nos prazos de entrega para gerar um cronograma de produção e compra de materiais. O objetivo é garantir que os materiais necessários estejam disponíveis exatamente quando forem necessários, evitando tanto a falta quanto o excesso de estoque.\n",
        "\n",
        "### Exemplo Prático\n",
        "\n",
        "Imagine que você é o gerente de produção de uma fábrica de bicicletas. Para montar uma bicicleta, são necessários vários componentes, como quadros, rodas, correntes, selins, entre outros. Cada componente tem seu próprio prazo de entrega e pode estar sujeito a variações na demanda. Utilizando o MRP, você pode calcular quantos componentes de cada tipo devem ser pedidos e quando, para garantir que todas as bicicletas possam ser montadas e entregues conforme o cronograma de produção, sem interrupções por falta de peças.\n",
        "\n",
        "### Impacto e Benefícios\n",
        "\n",
        "Implementar o MRP de forma eficiente traz inúmeros benefícios:\n",
        "\n",
        "- **Redução de Estoques**: Minimiza os níveis de estoque, reduzindo os custos de armazenamento e risco de obsolescência.\n",
        "- **Melhoria no Atendimento ao Cliente**: Garante que os produtos sejam entregues no prazo, aumentando a satisfação do cliente.\n",
        "- **Eficiência Operacional**: Otimiza o processo de produção, evitando paradas por falta de materiais e melhorando a utilização dos recursos.\n",
        "- **Planejamento Estratégico**: Facilita o planejamento de longo prazo, permitindo uma melhor previsão de demandas e necessidades de materiais.\n"
      ],
      "metadata": {
        "id": "noHvnTJgh2Oh"
      }
    },
    {
      "cell_type": "markdown",
      "source": [],
      "metadata": {
        "id": "I-6NPba5h7_E"
      }
    }
  ]
}