{
 "cells": [
  {
   "cell_type": "markdown",
   "metadata": {},
   "source": [
    "# Atividade 1.1\n",
    "\n",
    "Criar um novo vetor de custos e uma nova matriz de nutrientes incluindo dois novos alimentos. Após isso, criar um novo código que implemente e resolva o modelo com as novas condições."
   ]
  },
  {
   "cell_type": "markdown",
   "metadata": {},
   "source": [
    "# Solução"
   ]
  },
  {
   "cell_type": "markdown",
   "metadata": {},
   "source": [
    "### Características de Cada Alimento\n",
    "\n",
    "| Alimento | Custo (R$/unidade) | Nutriente 1 (g/unidade) | Nutriente 2 (g/unidade) | Nutriente 3 (g/unidade) |\n",
    "|----------|--------------------|-------------------------|-------------------------|-------------------------|\n",
    "| A        | 0.50               | 5                       | 1                       | 3                       |\n",
    "| B        | 0.30               | 4                       | 2                       | 1                       |\n",
    "| C        | 0.80               | 6                       | 5                       | 4                       |\n",
    "| D        | 0.20               | 3                       | 3                       | 1                       |\n",
    "| E        | 0.10               | 2                       | 4                       | 3                       |\n",
    "\n",
    "### Requisitos Nutricionais Diários\n",
    "\n",
    "- Nutriente 1: Pelo menos 50 gramas\n",
    "- Nutriente 2: Pelo menos 20 gramas\n",
    "- Nutriente 3: Pelo menos 30 gramas\n",
    "\n",
    "### Construção do Modelo Matemático\n",
    "\n",
    "Vamos definir as variáveis de decisão:\n",
    "\n",
    "- $x_A:$ quantidade de alimento A a ser consumida\n",
    "- $x_B$: quantidade de alimento B a ser consumida\n",
    "- $x_C$: quantidade de alimento C a ser consumida\n",
    "- $x_D:$ quantidade de alimento D a ser consumida\n",
    "- $x_E$: quantidade de alimento E a ser consumida\n",
    "\n",
    "### Função Objetivo\n",
    "\n",
    "Queremos minimizar o custo total da dieta:\n",
    "\n",
    "$$\\text{Min } Z = 0,50x_A + 0,30x_B + 0,80x_C + 0,20x_D + 0,10x_E$$\n",
    "\n",
    "### Restrições\n",
    "\n",
    "As restrições são baseadas nos requisitos nutricionais diários:\n",
    "\n",
    "1. Restrição de Nutriente 1:\n",
    "\n",
    "$$5x_A + 4x_B + 6x_C + 3x_D + 2x_E \\geq 50$$\n",
    "\n",
    "2. Restrição de Nutriente 2:\n",
    "\n",
    "$$1x_A + 2x_B + 5x_C + 3x_D + 4x_E \\geq 20$$\n",
    "\n",
    "3. Restrição de Nutriente 3:\n",
    "\n",
    "$$3x_A + 1x_B + 4x_C + 1x_D + 3x_E \\geq 30$$\n",
    "\n",
    "4. Restrições de Não Negatividade:\n",
    "\n",
    "$$\n",
    "x_A \\geq 0,\n",
    "x_B \\geq 0,\n",
    "x_C \\geq 0,\n",
    "x_D \\geq 0,\n",
    "x_E \\geq 0\n",
    "$$"
   ]
  },
  {
   "cell_type": "code",
   "execution_count": 1,
   "metadata": {},
   "outputs": [
    {
     "name": "stderr",
     "output_type": "stream",
     "text": [
      "\n",
      "[notice] A new release of pip is available: 23.1.2 -> 24.2\n",
      "[notice] To update, run: python.exe -m pip install --upgrade pip\n"
     ]
    },
    {
     "name": "stdout",
     "output_type": "stream",
     "text": [
      "Collecting gurobipy\n",
      "  Downloading gurobipy-11.0.3-cp311-cp311-win_amd64.whl (10.3 MB)\n",
      "                                              0.0/10.3 MB ? eta -:--:--\n",
      "                                              0.1/10.3 MB 2.6 MB/s eta 0:00:04\n",
      "     -                                        0.3/10.3 MB 3.5 MB/s eta 0:00:03\n",
      "     --                                       0.6/10.3 MB 4.2 MB/s eta 0:00:03\n",
      "     ---                                      0.8/10.3 MB 4.9 MB/s eta 0:00:02\n",
      "     ----                                     1.0/10.3 MB 4.7 MB/s eta 0:00:02\n",
      "     -----                                    1.4/10.3 MB 5.2 MB/s eta 0:00:02\n",
      "     -------                                  1.9/10.3 MB 6.1 MB/s eta 0:00:02\n",
      "     ---------                                2.4/10.3 MB 6.8 MB/s eta 0:00:02\n",
      "     -----------                              3.1/10.3 MB 7.5 MB/s eta 0:00:01\n",
      "     --------------                           3.8/10.3 MB 8.4 MB/s eta 0:00:01\n",
      "     ------------------                       4.7/10.3 MB 9.3 MB/s eta 0:00:01\n",
      "     ---------------------                    5.7/10.3 MB 10.4 MB/s eta 0:00:01\n",
      "     --------------------------               6.8/10.3 MB 11.4 MB/s eta 0:00:01\n",
      "     -------------------------------          8.1/10.3 MB 12.6 MB/s eta 0:00:01\n",
      "     --------------------------------         8.4/10.3 MB 12.8 MB/s eta 0:00:01\n",
      "     --------------------------------         8.4/10.3 MB 12.8 MB/s eta 0:00:01\n",
      "     --------------------------------         8.4/10.3 MB 12.8 MB/s eta 0:00:01\n",
      "     --------------------------------         8.4/10.3 MB 12.8 MB/s eta 0:00:01\n",
      "     ----------------------------------       8.9/10.3 MB 10.2 MB/s eta 0:00:01\n",
      "     --------------------------------------  10.3/10.3 MB 11.3 MB/s eta 0:00:01\n",
      "     --------------------------------------  10.3/10.3 MB 11.5 MB/s eta 0:00:01\n",
      "     --------------------------------------- 10.3/10.3 MB 10.9 MB/s eta 0:00:00\n",
      "Installing collected packages: gurobipy\n",
      "Successfully installed gurobipy-11.0.3\n"
     ]
    }
   ],
   "source": [
    "!pip install gurobipy\n",
    "\n",
    "import pandas as pd\n",
    "import gurobipy as gp\n",
    "from gurobipy import GRB"
   ]
  },
  {
   "cell_type": "code",
   "execution_count": 2,
   "metadata": {},
   "outputs": [
    {
     "name": "stdout",
     "output_type": "stream",
     "text": [
      "Restricted license - for non-production use only - expires 2025-11-24\n",
      "Gurobi Optimizer version 11.0.3 build v11.0.3rc0 (win64 - Windows 11.0 (22631.2))\n",
      "\n",
      "CPU model: 12th Gen Intel(R) Core(TM) i7-12700H, instruction set [SSE2|AVX|AVX2]\n",
      "Thread count: 14 physical cores, 20 logical processors, using up to 20 threads\n",
      "\n",
      "Optimize a model with 3 rows, 5 columns and 15 nonzeros\n",
      "Model fingerprint: 0x2e983fe4\n",
      "Coefficient statistics:\n",
      "  Matrix range     [1e+00, 6e+00]\n",
      "  Objective range  [1e-01, 8e-01]\n",
      "  Bounds range     [0e+00, 0e+00]\n",
      "  RHS range        [2e+01, 5e+01]\n",
      "Presolve removed 0 rows and 3 columns\n",
      "Presolve time: 0.01s\n",
      "Presolved: 3 rows, 2 columns, 6 nonzeros\n",
      "\n",
      "Iteration    Objective       Primal Inf.    Dual Inf.      Time\n",
      "       0    0.0000000e+00   2.500000e+01   0.000000e+00      0s\n",
      "       1    2.5000000e+00   0.000000e+00   0.000000e+00      0s\n",
      "\n",
      "Solved in 1 iterations and 0.01 seconds (0.00 work units)\n",
      "Optimal objective  2.500000000e+00\n",
      "O valor de xA é 0.0\n",
      "O valor de xB é 0.0\n",
      "O valor de xC é 0.0\n",
      "O valor de xD é 0.0\n",
      "O valor de xE é 25.0\n",
      "Com isso, o valor da função objetivo é de 2.5\n"
     ]
    }
   ],
   "source": [
    "def model_ex1(custo_xA=0.5, custo_xB=0.3, custo_xC=0.8, custo_xD=0.2, custo_xE=0.1):\n",
    "  # Criar um novo modelo\n",
    "  model_ex1 = gp.Model(\"dieta_ex1\")\n",
    "\n",
    "  # Criar variáveis de decisão\n",
    "  xA = model_ex1.addVar(vtype=GRB.CONTINUOUS, name=\"xA\")\n",
    "  xB = model_ex1.addVar(vtype=GRB.CONTINUOUS, name=\"xB\")\n",
    "  xC = model_ex1.addVar(vtype=GRB.CONTINUOUS, name=\"xC\")\n",
    "  xD = model_ex1.addVar(vtype=GRB.CONTINUOUS, name=\"xD\")\n",
    "  xE = model_ex1.addVar(vtype=GRB.CONTINUOUS, name=\"xE\")\n",
    "\n",
    "  # Definir a função objetivo\n",
    "  model_ex1.setObjective(custo_xA * xA + custo_xB * xB + custo_xC * xC + custo_xD * xD + custo_xE * xE, GRB.MINIMIZE)\n",
    "\n",
    "  # Adicionar restrição nutriente 1\n",
    "  model_ex1.addConstr(5 * xA + 4 * xB + 6 * xC + 3 * xD + 2 * xE >= 50, \"nutriente_1\")\n",
    "\n",
    "  # Adicionar restrição nutriente 2\n",
    "  model_ex1.addConstr(1 * xA + 2 * xB + 5 * xC + 3 * xD + 4 * xE >= 20, \"nutriente_2\")\n",
    "\n",
    "  # Adicionar restrição nutriente 3\n",
    "  model_ex1.addConstr(3 * xA + 1 * xB + 4 * xC + 1 * xD + 3 * xE >= 30, \"nutriente_3\")\n",
    "\n",
    "  # Resolver o modelo\n",
    "  model_ex1.optimize()\n",
    "\n",
    "  for v in model_ex1.getVars():\n",
    "      print(f\"O valor de {v.VarName} é {v.X}\")\n",
    "  print(f\"Com isso, o valor da função objetivo é de {model_ex1.ObjVal}\")\n",
    "\n",
    "\n",
    "model_ex1()"
   ]
  }
 ],
 "metadata": {
  "kernelspec": {
   "display_name": "Python 3",
   "language": "python",
   "name": "python3"
  },
  "language_info": {
   "codemirror_mode": {
    "name": "ipython",
    "version": 3
   },
   "file_extension": ".py",
   "mimetype": "text/x-python",
   "name": "python",
   "nbconvert_exporter": "python",
   "pygments_lexer": "ipython3",
   "version": "3.11.4"
  },
  "orig_nbformat": 4
 },
 "nbformat": 4,
 "nbformat_minor": 2
}
